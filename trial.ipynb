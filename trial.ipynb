{
 "cells": [
  {
   "cell_type": "code",
   "execution_count": 1,
   "metadata": {},
   "outputs": [
    {
     "data": {
      "text/plain": [
       "True"
      ]
     },
     "execution_count": 1,
     "metadata": {},
     "output_type": "execute_result"
    }
   ],
   "source": [
    "import os\n",
    "from dotenv import load_dotenv\n",
    "\n",
    "load_dotenv()"
   ]
  },
  {
   "cell_type": "code",
   "execution_count": 2,
   "metadata": {},
   "outputs": [],
   "source": [
    "LANGCHAIN_TRACING_V2 = os.getenv(\"LANGCHAIN_TRACING_V2\")\n",
    "LANGCHAIN_API_KEY = os.getenv(\"LANGCHAIN_API_KEY\")\n"
   ]
  },
  {
   "cell_type": "code",
   "execution_count": 3,
   "metadata": {},
   "outputs": [
    {
     "name": "stdout",
     "output_type": "stream",
     "text": [
      "true\n"
     ]
    }
   ],
   "source": [
    "print(LANGCHAIN_TRACING_V2)"
   ]
  },
  {
   "cell_type": "markdown",
   "metadata": {},
   "source": [
    "<h2>Loading the Database</h2>"
   ]
  },
  {
   "cell_type": "code",
   "execution_count": 4,
   "metadata": {},
   "outputs": [],
   "source": [
    "from langchain_community.utilities.sql_database import SQLDatabase"
   ]
  },
  {
   "cell_type": "code",
   "execution_count": 5,
   "metadata": {},
   "outputs": [],
   "source": [
    "db_user = os.getenv(\"db_user\")\n",
    "db_password = os.getenv(\"db_password\")\n",
    "db_host = os.getenv(\"db_host\")\n",
    "db_name = os.getenv(\"db_name\")"
   ]
  },
  {
   "cell_type": "code",
   "execution_count": 6,
   "metadata": {},
   "outputs": [],
   "source": [
    "mysql_uri = f\"mysql+mysqlconnector://{db_user}:{db_password}@{db_host}/{db_name}\"\n",
    "\n",
    "db = SQLDatabase.from_uri(mysql_uri , sample_rows_in_table_info = 4)"
   ]
  },
  {
   "cell_type": "code",
   "execution_count": 9,
   "metadata": {},
   "outputs": [
    {
     "name": "stdout",
     "output_type": "stream",
     "text": [
      "['attendance', 'login', 'students', 'subjects', 'teacher_subject', 'teachers']\n",
      "\n",
      "CREATE TABLE attendance (\n",
      "\tstudent_id_usn VARCHAR(15) NOT NULL, \n",
      "\tsubject_id VARCHAR(15) NOT NULL, \n",
      "\tdate DATE NOT NULL, \n",
      "\tstatus ENUM('absent','present') DEFAULT 'absent', \n",
      "\tPRIMARY KEY (student_id_usn, subject_id, date), \n",
      "\tCONSTRAINT attendance_ibfk_1 FOREIGN KEY(student_id_usn) REFERENCES students (student_id), \n",
      "\tCONSTRAINT attendance_ibfk_2 FOREIGN KEY(subject_id) REFERENCES subjects (subject_id)\n",
      ")COLLATE utf8mb4_0900_ai_ci DEFAULT CHARSET=utf8mb4 ENGINE=InnoDB\n",
      "\n",
      "/*\n",
      "4 rows from attendance table:\n",
      "student_id_usn\tsubject_id\tdate\tstatus\n",
      "1DS21CS001\t21CS71\t2024-11-16\tabsent\n",
      "1DS21CS001\t21CS72\t2024-11-16\tpresent\n",
      "1DS21CS001\t21CS73\t2024-11-16\tabsent\n",
      "1DS21CS001\t21CS74\t2024-11-16\tpresent\n",
      "*/\n",
      "\n",
      "\n",
      "CREATE TABLE login (\n",
      "\tid VARCHAR(20) NOT NULL, \n",
      "\tname VARCHAR(100) NOT NULL, \n",
      "\temail VARCHAR(100) NOT NULL, \n",
      "\tpassword VARCHAR(255) NOT NULL, \n",
      "\ttype VARCHAR(50) NOT NULL\n",
      ")COLLATE utf8mb4_0900_ai_ci DEFAULT CHARSET=utf8mb4 ENGINE=InnoDB\n",
      "\n",
      "/*\n",
      "4 rows from login table:\n",
      "id\tname\temail\tpassword\ttype\n",
      "1DSTC001\tHARSH KAMAL\t1DSTC001@dsce.edu.in\tpassword\tAdministrator\n",
      "1DSTC002\tKUMAR MAYANK RAJ\t1DSTC002@dsce.edu.in\tpassword\tadministrator\n",
      "1DSTC003\tPREMSUKH\t1DSTC003@dsce.edu.in\tpassword\tadministrator\n",
      "1DSTC004\tTANMAYI G\t1DSTC004@dsce.edu.in\tpassword\tadministrator\n",
      "*/\n",
      "\n",
      "\n",
      "CREATE TABLE students (\n",
      "\tstudent_id VARCHAR(10) NOT NULL, \n",
      "\tstudent_name VARCHAR(100), \n",
      "\tcontact VARCHAR(10), \n",
      "\temail VARCHAR(50) NOT NULL, \n",
      "\tstudent_father_name VARCHAR(50) NOT NULL, \n",
      "\tstudent_mother_name VARCHAR(50) NOT NULL, \n",
      "\tPRIMARY KEY (student_id), \n",
      "\tCONSTRAINT students_chk_1 CHECK (((length(`contact`) = 10) and (not((`contact` like _utf8mb4'%[^0-9]%'))))), \n",
      "\tCONSTRAINT students_chk_2 CHECK ((`email` like _utf8mb4'%_@__%.__%'))\n",
      ")COLLATE utf8mb4_0900_ai_ci DEFAULT CHARSET=utf8mb4 ENGINE=InnoDB\n",
      "\n",
      "/*\n",
      "4 rows from students table:\n",
      "student_id\tstudent_name\tcontact\temail\tstudent_father_name\tstudent_mother_name\n",
      "1DS21CS001\tA N ANVITHA\t9080706001\t1ds21cs001@dsce.edu.in\t1ds21cs001_Father_name\t1ds21cs001_Mother_name\n",
      "1DS21CS002\tAADITYA KRISHNA\t9080706002\t1ds21cs002@dsce.edu.in\t1ds21cs002_Father_name\t1ds21cs002_Mother_name\n",
      "1DS21CS003\tAARUSHI DHRUV\t9080706003\t1ds21cs003@dsce.edu.in\t1ds21cs003_Father_name\t1ds21cs003_Mother_name\n",
      "1DS21CS004\tAARYA GOWDA\t9080706004\t1ds21cs004@dsce.edu.in\t1ds21cs004_Father_name\t1ds21cs004_Mother_name\n",
      "*/\n",
      "\n",
      "\n",
      "CREATE TABLE subjects (\n",
      "\tsubject_id VARCHAR(15) NOT NULL, \n",
      "\tsubject_name VARCHAR(70) NOT NULL, \n",
      "\tsubject_credits INTEGER NOT NULL, \n",
      "\tPRIMARY KEY (subject_id)\n",
      ")COLLATE utf8mb4_0900_ai_ci DEFAULT CHARSET=utf8mb4 ENGINE=InnoDB\n",
      "\n",
      "/*\n",
      "4 rows from subjects table:\n",
      "subject_id\tsubject_name\tsubject_credits\n",
      "21CS71\tManagement Entrepreneurship\t3\n",
      "21CS72\tData Science and Visualization\t3\n",
      "21CS73\tNatural Language Processing\t3\n",
      "21CS74\tAR VR\t3\n",
      "*/\n",
      "\n",
      "\n",
      "CREATE TABLE teacher_subject (\n",
      "\tteacher_id VARCHAR(20) NOT NULL, \n",
      "\tsubject_id VARCHAR(15) NOT NULL, \n",
      "\tPRIMARY KEY (teacher_id, subject_id), \n",
      "\tCONSTRAINT teacher_subject_ibfk_1 FOREIGN KEY(teacher_id) REFERENCES teachers (teacher_id), \n",
      "\tCONSTRAINT teacher_subject_ibfk_2 FOREIGN KEY(subject_id) REFERENCES subjects (subject_id)\n",
      ")COLLATE utf8mb4_0900_ai_ci DEFAULT CHARSET=utf8mb4 ENGINE=InnoDB\n",
      "\n",
      "/*\n",
      "4 rows from teacher_subject table:\n",
      "teacher_id\tsubject_id\n",
      "1DSTC001\t21CS71\n",
      "1DSTC001\t21CS72\n",
      "1DSTC002\t21CS73\n",
      "1DSTC002\t21CS74\n",
      "*/\n",
      "\n",
      "\n",
      "CREATE TABLE teachers (\n",
      "\tteacher_id VARCHAR(20) NOT NULL, \n",
      "\tteacher_name VARCHAR(50) NOT NULL, \n",
      "\tcontact VARCHAR(10), \n",
      "\temail VARCHAR(50) NOT NULL, \n",
      "\tPRIMARY KEY (teacher_id), \n",
      "\tCONSTRAINT teachers_chk_1 CHECK (((length(`contact`) = 10) and (not((`contact` like _utf8mb4'%[^0-9]%'))))), \n",
      "\tCONSTRAINT teachers_chk_2 CHECK ((`email` like _utf8mb4'%_@__%.__%'))\n",
      ")COLLATE utf8mb4_0900_ai_ci DEFAULT CHARSET=utf8mb4 ENGINE=InnoDB\n",
      "\n",
      "/*\n",
      "4 rows from teachers table:\n",
      "teacher_id\tteacher_name\tcontact\temail\n",
      "1DSTC001\tHARSH KAMAL\t1020304001\t1DSTC001@dsce.edu.in\n",
      "1DSTC002\tKUMAR MAYANK RAJ\t1020304002\t1DSTC002@dsce.edu.in\n",
      "1DSTC003\tPREMSUKH\t1020304003\t1DSTC003@dsce.edu.in\n",
      "1DSTC004\tTANMAYI G\t1020304004\t1DSTC004@dsce.edu.in\n",
      "*/\n"
     ]
    }
   ],
   "source": [
    "print(db.get_usable_table_names())\n",
    "print(db.table_info)"
   ]
  },
  {
   "cell_type": "markdown",
   "metadata": {},
   "source": [
    "<h2>Creating the model </h2>"
   ]
  },
  {
   "cell_type": "code",
   "execution_count": 7,
   "metadata": {},
   "outputs": [],
   "source": [
    "from langchain.chains import create_sql_query_chain"
   ]
  },
  {
   "cell_type": "code",
   "execution_count": 8,
   "metadata": {},
   "outputs": [],
   "source": [
    "from langchain_ollama import ChatOllama\n",
    "\n",
    "llm = ChatOllama(model=\"llama3.1\" , temperature= 0)"
   ]
  },
  {
   "cell_type": "code",
   "execution_count": 9,
   "metadata": {},
   "outputs": [],
   "source": [
    "GROQ_API_KEY = os.getenv(\"GROQ_API_KEY\")"
   ]
  },
  {
   "cell_type": "code",
   "execution_count": null,
   "metadata": {},
   "outputs": [],
   "source": [
    "from langchain_groq import ChatGroq\n",
    "\n",
    "llm = ChatGroq(\n",
    "    model=\"llama3-groq-70b-8192-tool-use-preview\",\n",
    "    temperature=0,\n",
    "    max_tokens=None,\n",
    "    timeout=None,\n",
    ")"
   ]
  },
  {
   "cell_type": "code",
   "execution_count": null,
   "metadata": {},
   "outputs": [],
   "source": [
    "# from langchain_openai import OpenAI\n",
    "# llm = OpenAI()"
   ]
  },
  {
   "cell_type": "code",
   "execution_count": 11,
   "metadata": {},
   "outputs": [],
   "source": [
    "#The very first step in our interaction\n",
    "generate_query = create_sql_query_chain(llm , db)"
   ]
  },
  {
   "cell_type": "code",
   "execution_count": 12,
   "metadata": {},
   "outputs": [],
   "source": [
    "suffix = \" Only return the SQL query, Nothing else.\""
   ]
  },
  {
   "cell_type": "code",
   "execution_count": 13,
   "metadata": {},
   "outputs": [
    {
     "name": "stdout",
     "output_type": "stream",
     "text": [
      "SELECT COUNT(*) AS total_students FROM students\n"
     ]
    }
   ],
   "source": [
    "query = generate_query.invoke({\"question\" : \"How many students are there?\" + suffix})\n",
    "print(query)"
   ]
  },
  {
   "cell_type": "code",
   "execution_count": 14,
   "metadata": {},
   "outputs": [],
   "source": [
    "from langchain_community.tools.sql_database.tool import QuerySQLDataBaseTool"
   ]
  },
  {
   "cell_type": "code",
   "execution_count": 15,
   "metadata": {},
   "outputs": [
    {
     "data": {
      "text/plain": [
       "'[(284,)]'"
      ]
     },
     "execution_count": 15,
     "metadata": {},
     "output_type": "execute_result"
    }
   ],
   "source": [
    "execute_query = QuerySQLDataBaseTool(db = db)\n",
    "execute_query.invoke(query)"
   ]
  },
  {
   "cell_type": "code",
   "execution_count": 16,
   "metadata": {},
   "outputs": [
    {
     "data": {
      "text/plain": [
       "'[(284,)]'"
      ]
     },
     "execution_count": 16,
     "metadata": {},
     "output_type": "execute_result"
    }
   ],
   "source": [
    "#Creating the chain of above 2 steps\n",
    "chain = generate_query | execute_query\n",
    "chain.invoke({\"question\" : \"How many students are there?\" + suffix})"
   ]
  },
  {
   "cell_type": "code",
   "execution_count": 17,
   "metadata": {},
   "outputs": [],
   "source": [
    "from operator import itemgetter\n",
    "\n",
    "from langchain_core.output_parsers import StrOutputParser\n",
    "from langchain_core.prompts import PromptTemplate\n",
    "from langchain_core.runnables import RunnablePassthrough"
   ]
  },
  {
   "cell_type": "code",
   "execution_count": 18,
   "metadata": {},
   "outputs": [],
   "source": [
    "answer_prompt = PromptTemplate.from_template(\n",
    "     \"\"\"Given the following user question, corresponding SQL query, and SQL result, answer the user question in natural english language.If the result is blank, then answer in negative.\n",
    "\n",
    " Question: {question}\n",
    " SQL Query: {query}\n",
    " SQL Result: {result}\n",
    " Answer: \"\"\"\n",
    " )"
   ]
  },
  {
   "cell_type": "code",
   "execution_count": 19,
   "metadata": {},
   "outputs": [],
   "source": [
    "rephrase_answer = answer_prompt | llm | StrOutputParser()"
   ]
  },
  {
   "cell_type": "code",
   "execution_count": 20,
   "metadata": {},
   "outputs": [],
   "source": [
    "chain = (\n",
    "     RunnablePassthrough.assign(query=generate_query).assign(\n",
    "         result=itemgetter(\"query\") | execute_query\n",
    "     )\n",
    "     | rephrase_answer\n",
    " )"
   ]
  },
  {
   "cell_type": "code",
   "execution_count": 21,
   "metadata": {},
   "outputs": [
    {
     "data": {
      "text/plain": [
       "'There are 284 students.'"
      ]
     },
     "execution_count": 21,
     "metadata": {},
     "output_type": "execute_result"
    }
   ],
   "source": [
    "chain.invoke({\"question\": \"How many students?\" + suffix})"
   ]
  },
  {
   "cell_type": "markdown",
   "metadata": {},
   "source": [
    "<h3>Creating Few Shot prompts</h3>"
   ]
  },
  {
   "cell_type": "code",
   "execution_count": 22,
   "metadata": {},
   "outputs": [],
   "source": [
    "examples = [\n",
    "    {\n",
    "        \"input\" : \"List all students of the class\" , \n",
    "        \"query\" : \"SELECT * FROM students;\"\n",
    "    } , \n",
    "    {\n",
    "        \"input\" : \"List the names of students of the class\" , \n",
    "        \"query\" : \"SELECT student_id_usn , student_name FROM students;\"\n",
    "    } , \n",
    "    { \n",
    "        \"input\": \"List all students and their contact details.\", \n",
    "        \"query\": \"SELECT student_id_usn, student_name, contact, email FROM students;\" \n",
    "    } ,\n",
    "    {\n",
    "        \"input\" : \"Give me the usn of all students\" , \n",
    "        \"query\" : \"SELECT student_id_usn FROM students;\"\n",
    "    } ,\n",
    "    {\n",
    "        \"input\" : \"Give me details of student id 106\" , \n",
    "        \"query\" : \"SELECT * FROM students WHERE student_id = '1DS21CS106'\"\n",
    "    } ,\n",
    "    {\n",
    "        \"input\" : \"Who is 106?\" , \n",
    "        \"query\" : \"SELECT * FROM students WHERE student_id = '1DS21CS106'\"\n",
    "    } ,\n",
    "    {\n",
    "        \"input\" : \"Who is 087?\" , \n",
    "        \"query\" : \"SELECT * FROM students WHERE student_id = '1DS21CS087'\"\n",
    "    } ,\n",
    "    \n",
    "    {\n",
    "        \"input\" : \"Give me details of student id 1ds21cs087\" , \n",
    "        \"query\" : \"SELECT * FROM students WHERE student_id = '1DS21CS087'\"\n",
    "    } ,\n",
    "    {\n",
    "        \"input\" : \"Give me details of usn 234\" , \n",
    "        \"query\" : \"SELECT * FROM students WHERE student_id = '1DS21CS234'\"\n",
    "    } ,\n",
    "    {\n",
    "        \"input\" : \"Give me details of usn 1ds21cs234\" , \n",
    "        \"query\" : \"SELECT * FROM students WHERE student_id = '1DS21CS234'\"\n",
    "    } , \n",
    "    {\n",
    "        \"input\" : \"Who teaches ar vr?\" ,\n",
    "        \"query\" : \"SELECT teacher_name FROM teachers INNER JOIN teacher_subject ON teachers.teacher_id = teacher_subject.teacher_id INNER JOIN subjects ON teacher_subject.subject_id = subjects.subject_id WHERE subjects.subject_name = 'AR VR';\"\n",
    "    } , \n",
    "    {\n",
    "        \"input\" : \"Who teaches business intelligence?\" ,\n",
    "        \"query\" : \"SELECT teacher_name FROM teachers INNER JOIN teacher_subject ON teachers.teacher_id = teacher_subject.teacher_id INNER JOIN subjects ON teacher_subject.subject_id = subjects.subject_id WHERE subjects.subject_name = 'Business Intelligence';\"\n",
    "    } ,\n",
    "    {\n",
    "        \"input\" : \"What Premsukh teaches?\" ,\n",
    "        \"query\" : \"select su.subject_name from teachers t inner join teacher_subject ts on t.teacher_id = ts.teacher_id inner join subjects su on su.subject_code = ts.subject_code where t.teacher_id in (select teacher_id from teachers where teacher_name like '%premsukh%'); \"\n",
    "    } ,\n",
    "    {\n",
    "        \"input\" : \"what Harsh teaches?\" , \n",
    "        \"query\" : \"select su.subject_name from teachers t inner join teacher_subject ts on t.teacher_id = ts.teacher_id inner join subjects su on su.subject_code = ts.subject_code where t.teacher_id in (select teacher_id from teachers where teacher_name like '%harsh%'); \"\n",
    "    } ,\n",
    "]"
   ]
  },
  {
   "cell_type": "code",
   "execution_count": 23,
   "metadata": {},
   "outputs": [],
   "source": [
    "from langchain_core.prompts import ChatPromptTemplate , MessagesPlaceholder , FewShotChatMessagePromptTemplate"
   ]
  },
  {
   "cell_type": "code",
   "execution_count": 24,
   "metadata": {},
   "outputs": [],
   "source": [
    "example_prompt = ChatPromptTemplate.from_messages(\n",
    "    [\n",
    "        # (\"human\" , \"{input}\\nSQLQuery:\"),\n",
    "        (\"human\" , \"{input}. \" + suffix),\n",
    "        (\"ai\" , \"{query}\"), \n",
    "    ]\n",
    ")"
   ]
  },
  {
   "cell_type": "code",
   "execution_count": 71,
   "metadata": {},
   "outputs": [
    {
     "name": "stdout",
     "output_type": "stream",
     "text": [
      "Human: How?.  Only return the SQL query, Nothing else.\n",
      "AI: WHo?\n"
     ]
    }
   ],
   "source": [
    "print(example_prompt.format(input = \"How?\" , query = \"WHo?\"))"
   ]
  },
  {
   "cell_type": "code",
   "execution_count": 25,
   "metadata": {},
   "outputs": [],
   "source": [
    "few_shot_prompt = FewShotChatMessagePromptTemplate(\n",
    "    example_prompt=example_prompt ,\n",
    "    examples= examples ,\n",
    "    input_variables=[\"input\"],\n",
    ")"
   ]
  },
  {
   "cell_type": "code",
   "execution_count": 26,
   "metadata": {},
   "outputs": [
    {
     "name": "stdout",
     "output_type": "stream",
     "text": [
      "Human: List all students of the class.  Only return the SQL query, Nothing else.\n",
      "AI: SELECT * FROM students;\n",
      "Human: List the names of students of the class.  Only return the SQL query, Nothing else.\n",
      "AI: SELECT student_id_usn , student_name FROM students;\n",
      "Human: List all students and their contact details..  Only return the SQL query, Nothing else.\n",
      "AI: SELECT student_id_usn, student_name, contact, email FROM students;\n",
      "Human: Give me the usn of all students.  Only return the SQL query, Nothing else.\n",
      "AI: SELECT student_id_usn FROM students;\n",
      "Human: Give me details of student id 106.  Only return the SQL query, Nothing else.\n",
      "AI: SELECT * FROM students WHERE student_id = '1DS21CS106'\n",
      "Human: Who is 106?.  Only return the SQL query, Nothing else.\n",
      "AI: SELECT * FROM students WHERE student_id = '1DS21CS106'\n",
      "Human: Who is 087?.  Only return the SQL query, Nothing else.\n",
      "AI: SELECT * FROM students WHERE student_id = '1DS21CS087'\n",
      "Human: Give me details of student id 1ds21cs087.  Only return the SQL query, Nothing else.\n",
      "AI: SELECT * FROM students WHERE student_id = '1DS21CS087'\n",
      "Human: Give me details of usn 234.  Only return the SQL query, Nothing else.\n",
      "AI: SELECT * FROM students WHERE student_id = '1DS21CS234'\n",
      "Human: Give me details of usn 1ds21cs234.  Only return the SQL query, Nothing else.\n",
      "AI: SELECT * FROM students WHERE student_id = '1DS21CS234'\n",
      "Human: Who teaches ar vr?.  Only return the SQL query, Nothing else.\n",
      "AI: SELECT teacher_name FROM teachers INNER JOIN teacher_subject ON teachers.teacher_id = teacher_subject.teacher_id INNER JOIN subjects ON teacher_subject.subject_id = subjects.subject_id WHERE subjects.subject_name = 'AR VR';\n",
      "Human: Who teaches business intelligence?.  Only return the SQL query, Nothing else.\n",
      "AI: SELECT teacher_name FROM teachers INNER JOIN teacher_subject ON teachers.teacher_id = teacher_subject.teacher_id INNER JOIN subjects ON teacher_subject.subject_id = subjects.subject_id WHERE subjects.subject_name = 'Business Intelligence';\n",
      "Human: What Premsukh teaches?.  Only return the SQL query, Nothing else.\n",
      "AI: select su.subject_name from teachers t inner join teacher_subject ts on t.teacher_id = ts.teacher_id inner join subjects su on su.subject_code = ts.subject_code where t.teacher_id in (select teacher_id from teachers where teacher_name like '%premsukh%'); \n",
      "Human: what Harsh teaches?.  Only return the SQL query, Nothing else.\n",
      "AI: select su.subject_name from teachers t inner join teacher_subject ts on t.teacher_id = ts.teacher_id inner join subjects su on su.subject_code = ts.subject_code where t.teacher_id in (select teacher_id from teachers where teacher_name like '%harsh%'); \n"
     ]
    }
   ],
   "source": [
    "print(few_shot_prompt.format(input=\"How many students are there?\"))"
   ]
  },
  {
   "cell_type": "code",
   "execution_count": 27,
   "metadata": {},
   "outputs": [],
   "source": [
    "#Dynamic few-shot selections\n",
    "from langchain_chroma import Chroma\n",
    "from langchain_core.example_selectors import SemanticSimilarityExampleSelector\n",
    "from langchain_ollama import OllamaEmbeddings"
   ]
  },
  {
   "cell_type": "code",
   "execution_count": 28,
   "metadata": {},
   "outputs": [],
   "source": [
    "vectorstore = Chroma()\n",
    "vectorstore.delete_collection()"
   ]
  },
  {
   "cell_type": "code",
   "execution_count": 29,
   "metadata": {},
   "outputs": [],
   "source": [
    "example_selector = SemanticSimilarityExampleSelector.from_examples(\n",
    "    examples,\n",
    "    OllamaEmbeddings(model=\"llama3.1\",),\n",
    "    vectorstore,\n",
    "    k=2,\n",
    "    input_keys=[\"input\"],\n",
    ")"
   ]
  },
  {
   "cell_type": "code",
   "execution_count": 30,
   "metadata": {},
   "outputs": [],
   "source": [
    "example_selector_input = \"How many students are there?\""
   ]
  },
  {
   "cell_type": "code",
   "execution_count": 31,
   "metadata": {},
   "outputs": [
    {
     "data": {
      "text/plain": [
       "[{'input': 'Who teaches business intelligence?',\n",
       "  'query': \"SELECT teacher_name FROM teachers INNER JOIN teacher_subject ON teachers.teacher_id = teacher_subject.teacher_id INNER JOIN subjects ON teacher_subject.subject_id = subjects.subject_id WHERE subjects.subject_name = 'Business Intelligence';\"},\n",
       " {'input': 'What Premsukh teaches?',\n",
       "  'query': \"select su.subject_name from teachers t inner join teacher_subject ts on t.teacher_id = ts.teacher_id inner join subjects su on su.subject_code = ts.subject_code where t.teacher_id in (select teacher_id from teachers where teacher_name like '%premsukh%'); \"}]"
      ]
     },
     "execution_count": 31,
     "metadata": {},
     "output_type": "execute_result"
    }
   ],
   "source": [
    "example_selector.select_examples({\"input\": example_selector_input})"
   ]
  },
  {
   "cell_type": "code",
   "execution_count": null,
   "metadata": {},
   "outputs": [
    {
     "name": "stdout",
     "output_type": "stream",
     "text": [
      "[-0.0050232355, -0.020094158, 0.020115267]\n",
      "[-0.00073254365, -0.022771522, 0.01482598]\n"
     ]
    }
   ],
   "source": [
    "# embed = OllamaEmbeddings(\n",
    "#     model=\"llama3.1\"\n",
    "# )\n",
    "\n",
    "# input_text = \"Who teaches Generative AI?\"\n",
    "# vector = embed.embed_query(input_text)\n",
    "# print(vector[:3])\n",
    "\n",
    "# input_text = \"Who teaches business intelligence?\"\n",
    "# vector = embed.embed_query(input_text)\n",
    "# print(vector[:3])"
   ]
  },
  {
   "cell_type": "code",
   "execution_count": 32,
   "metadata": {},
   "outputs": [],
   "source": [
    "few_shot_prompt = FewShotChatMessagePromptTemplate(\n",
    "    example_prompt=example_prompt,\n",
    "    example_selector=example_selector,\n",
    "    input_variables=[\"input\", \"top_k\"],\n",
    ")"
   ]
  },
  {
   "cell_type": "code",
   "execution_count": 33,
   "metadata": {},
   "outputs": [],
   "source": [
    "few_shot_prompt_input = \"Who teaches management entrepreneurship?\""
   ]
  },
  {
   "cell_type": "code",
   "execution_count": 34,
   "metadata": {},
   "outputs": [
    {
     "name": "stdout",
     "output_type": "stream",
     "text": [
      "Human: Who teaches business intelligence?.  Only return the SQL query, Nothing else.\n",
      "AI: SELECT teacher_name FROM teachers INNER JOIN teacher_subject ON teachers.teacher_id = teacher_subject.teacher_id INNER JOIN subjects ON teacher_subject.subject_id = subjects.subject_id WHERE subjects.subject_name = 'Business Intelligence';\n",
      "Human: Who teaches ar vr?.  Only return the SQL query, Nothing else.\n",
      "AI: SELECT teacher_name FROM teachers INNER JOIN teacher_subject ON teachers.teacher_id = teacher_subject.teacher_id INNER JOIN subjects ON teacher_subject.subject_id = subjects.subject_id WHERE subjects.subject_name = 'AR VR';\n"
     ]
    }
   ],
   "source": [
    "print(few_shot_prompt.format(input=few_shot_prompt_input))"
   ]
  },
  {
   "cell_type": "code",
   "execution_count": 35,
   "metadata": {},
   "outputs": [],
   "source": [
    "final_prompt = ChatPromptTemplate.from_messages(\n",
    "    [\n",
    "        (\"system\", \"You are a MySQL expert. Given an input question, create a syntactically correct MySQL query to run. Unless otherwise specificed.\\n\\nHere is the relevant table info: {table_info}\\n\\nBelow are a number of examples of questions and their corresponding SQL queries.\"),\n",
    "        few_shot_prompt,\n",
    "        (\"human\", \"{input}\"),\n",
    "    ]\n",
    ")"
   ]
  },
  {
   "cell_type": "code",
   "execution_count": 36,
   "metadata": {},
   "outputs": [],
   "source": [
    "final_prompt_input = \"Who is 098?\""
   ]
  },
  {
   "cell_type": "code",
   "execution_count": 37,
   "metadata": {},
   "outputs": [
    {
     "name": "stdout",
     "output_type": "stream",
     "text": [
      "System: You are a MySQL expert. Given an input question, create a syntactically correct MySQL query to run. Unless otherwise specificed.\n",
      "\n",
      "Here is the relevant table info: \n",
      "CREATE TABLE attendance (\n",
      "\tstudent_id_usn VARCHAR(15) NOT NULL, \n",
      "\tsubject_id VARCHAR(15) NOT NULL, \n",
      "\tdate DATE NOT NULL, \n",
      "\tstatus ENUM('absent','present') DEFAULT 'absent', \n",
      "\tPRIMARY KEY (student_id_usn, subject_id, date), \n",
      "\tCONSTRAINT attendance_ibfk_1 FOREIGN KEY(student_id_usn) REFERENCES students (student_id), \n",
      "\tCONSTRAINT attendance_ibfk_2 FOREIGN KEY(subject_id) REFERENCES subjects (subject_id)\n",
      ")ENGINE=InnoDB COLLATE utf8mb4_0900_ai_ci DEFAULT CHARSET=utf8mb4\n",
      "\n",
      "/*\n",
      "4 rows from attendance table:\n",
      "student_id_usn\tsubject_id\tdate\tstatus\n",
      "1DS21CS001\t21CS71\t2024-11-16\tabsent\n",
      "1DS21CS001\t21CS72\t2024-11-16\tpresent\n",
      "1DS21CS001\t21CS73\t2024-11-16\tabsent\n",
      "1DS21CS001\t21CS74\t2024-11-16\tpresent\n",
      "*/\n",
      "\n",
      "\n",
      "CREATE TABLE login (\n",
      "\tid VARCHAR(20) NOT NULL, \n",
      "\tname VARCHAR(100) NOT NULL, \n",
      "\temail VARCHAR(100) NOT NULL, \n",
      "\tpassword VARCHAR(255) NOT NULL, \n",
      "\ttype VARCHAR(50) NOT NULL\n",
      ")ENGINE=InnoDB COLLATE utf8mb4_0900_ai_ci DEFAULT CHARSET=utf8mb4\n",
      "\n",
      "/*\n",
      "4 rows from login table:\n",
      "id\tname\temail\tpassword\ttype\n",
      "1DSTC001\tHARSH KAMAL\t1DSTC001@dsce.edu.in\tpassword\tAdministrator\n",
      "1DSTC002\tKUMAR MAYANK RAJ\t1DSTC002@dsce.edu.in\tpassword\tadministrator\n",
      "1DSTC003\tPREMSUKH\t1DSTC003@dsce.edu.in\tpassword\tadministrator\n",
      "1DSTC004\tTANMAYI G\t1DSTC004@dsce.edu.in\tpassword\tadministrator\n",
      "*/\n",
      "\n",
      "\n",
      "CREATE TABLE students (\n",
      "\tstudent_id VARCHAR(10) NOT NULL, \n",
      "\tstudent_name VARCHAR(100), \n",
      "\tcontact VARCHAR(10), \n",
      "\temail VARCHAR(50) NOT NULL, \n",
      "\tstudent_father_name VARCHAR(50) NOT NULL, \n",
      "\tstudent_mother_name VARCHAR(50) NOT NULL, \n",
      "\tPRIMARY KEY (student_id), \n",
      "\tCONSTRAINT students_chk_1 CHECK (((length(`contact`) = 10) and (not((`contact` like _utf8mb4'%[^0-9]%'))))), \n",
      "\tCONSTRAINT students_chk_2 CHECK ((`email` like _utf8mb4'%_@__%.__%'))\n",
      ")ENGINE=InnoDB COLLATE utf8mb4_0900_ai_ci DEFAULT CHARSET=utf8mb4\n",
      "\n",
      "/*\n",
      "4 rows from students table:\n",
      "student_id\tstudent_name\tcontact\temail\tstudent_father_name\tstudent_mother_name\n",
      "1DS21CS001\tA N ANVITHA\t9080706001\t1ds21cs001@dsce.edu.in\t1ds21cs001_Father_name\t1ds21cs001_Mother_name\n",
      "1DS21CS002\tAADITYA KRISHNA\t9080706002\t1ds21cs002@dsce.edu.in\t1ds21cs002_Father_name\t1ds21cs002_Mother_name\n",
      "1DS21CS003\tAARUSHI DHRUV\t9080706003\t1ds21cs003@dsce.edu.in\t1ds21cs003_Father_name\t1ds21cs003_Mother_name\n",
      "1DS21CS004\tAARYA GOWDA\t9080706004\t1ds21cs004@dsce.edu.in\t1ds21cs004_Father_name\t1ds21cs004_Mother_name\n",
      "*/\n",
      "\n",
      "\n",
      "CREATE TABLE subjects (\n",
      "\tsubject_id VARCHAR(15) NOT NULL, \n",
      "\tsubject_name VARCHAR(70) NOT NULL, \n",
      "\tsubject_credits INTEGER NOT NULL, \n",
      "\tPRIMARY KEY (subject_id)\n",
      ")ENGINE=InnoDB COLLATE utf8mb4_0900_ai_ci DEFAULT CHARSET=utf8mb4\n",
      "\n",
      "/*\n",
      "4 rows from subjects table:\n",
      "subject_id\tsubject_name\tsubject_credits\n",
      "21CS71\tManagement Entrepreneurship\t3\n",
      "21CS72\tData Science and Visualization\t3\n",
      "21CS73\tNatural Language Processing\t3\n",
      "21CS74\tAR VR\t3\n",
      "*/\n",
      "\n",
      "\n",
      "CREATE TABLE teacher_subject (\n",
      "\tteacher_id VARCHAR(20) NOT NULL, \n",
      "\tsubject_id VARCHAR(15) NOT NULL, \n",
      "\tPRIMARY KEY (teacher_id, subject_id), \n",
      "\tCONSTRAINT teacher_subject_ibfk_1 FOREIGN KEY(teacher_id) REFERENCES teachers (teacher_id), \n",
      "\tCONSTRAINT teacher_subject_ibfk_2 FOREIGN KEY(subject_id) REFERENCES subjects (subject_id)\n",
      ")ENGINE=InnoDB COLLATE utf8mb4_0900_ai_ci DEFAULT CHARSET=utf8mb4\n",
      "\n",
      "/*\n",
      "4 rows from teacher_subject table:\n",
      "teacher_id\tsubject_id\n",
      "1DSTC001\t21CS71\n",
      "1DSTC001\t21CS72\n",
      "1DSTC002\t21CS73\n",
      "1DSTC002\t21CS74\n",
      "*/\n",
      "\n",
      "\n",
      "CREATE TABLE teachers (\n",
      "\tteacher_id VARCHAR(20) NOT NULL, \n",
      "\tteacher_name VARCHAR(50) NOT NULL, \n",
      "\tcontact VARCHAR(10), \n",
      "\temail VARCHAR(50) NOT NULL, \n",
      "\tPRIMARY KEY (teacher_id), \n",
      "\tCONSTRAINT teachers_chk_1 CHECK (((length(`contact`) = 10) and (not((`contact` like _utf8mb4'%[^0-9]%'))))), \n",
      "\tCONSTRAINT teachers_chk_2 CHECK ((`email` like _utf8mb4'%_@__%.__%'))\n",
      ")ENGINE=InnoDB COLLATE utf8mb4_0900_ai_ci DEFAULT CHARSET=utf8mb4\n",
      "\n",
      "/*\n",
      "4 rows from teachers table:\n",
      "teacher_id\tteacher_name\tcontact\temail\n",
      "1DSTC001\tHARSH KAMAL\t1020304001\t1DSTC001@dsce.edu.in\n",
      "1DSTC002\tKUMAR MAYANK RAJ\t1020304002\t1DSTC002@dsce.edu.in\n",
      "1DSTC003\tPREMSUKH\t1020304003\t1DSTC003@dsce.edu.in\n",
      "1DSTC004\tTANMAYI G\t1020304004\t1DSTC004@dsce.edu.in\n",
      "*/\n",
      "\n",
      "Below are a number of examples of questions and their corresponding SQL queries.\n",
      "Human: Who is 087?.  Only return the SQL query, Nothing else.\n",
      "AI: SELECT * FROM students WHERE student_id = '1DS21CS087'\n",
      "Human: Who is 106?.  Only return the SQL query, Nothing else.\n",
      "AI: SELECT * FROM students WHERE student_id = '1DS21CS106'\n",
      "Human: Who is 098?\n"
     ]
    }
   ],
   "source": [
    "print(final_prompt.format(input=final_prompt_input,table_info=db.table_info))"
   ]
  },
  {
   "cell_type": "code",
   "execution_count": null,
   "metadata": {},
   "outputs": [],
   "source": [
    "generate_query = create_sql_query_chain(llm, db,final_prompt)"
   ]
  },
  {
   "cell_type": "code",
   "execution_count": 39,
   "metadata": {},
   "outputs": [],
   "source": [
    "chain = (\n",
    "RunnablePassthrough.assign(query=generate_query).assign(\n",
    "    result=itemgetter(\"query\") | execute_query\n",
    ")\n",
    "| rephrase_answer\n",
    ")"
   ]
  },
  {
   "cell_type": "code",
   "execution_count": null,
   "metadata": {},
   "outputs": [
    {
     "data": {
      "text/plain": [
       "'Yes, based on the information provided, it appears that the student with the ID 1DS21CS087 was present on the date of November 16, 2024, which suggests that their attendance is regular.'"
      ]
     },
     "execution_count": 44,
     "metadata": {},
     "output_type": "execute_result"
    }
   ],
   "source": [
    "chain.invoke({\"question\" : \"How many students are there?\"})"
   ]
  },
  {
   "cell_type": "markdown",
   "metadata": {},
   "source": [
    "<h3>Setting up the relevant table selection </h3>"
   ]
  },
  {
   "cell_type": "code",
   "execution_count": 92,
   "metadata": {},
   "outputs": [],
   "source": [
    "# from operator import itemgetter\n",
    "# from langchain.chains import create_extraction_chain_pydantic\n",
    "from langchain.chains.openai_tools import create_extraction_chain_pydantic \n",
    "from pydantic import BaseModel, Field\n",
    "# from typing import List\n",
    "import pandas as pd"
   ]
  },
  {
   "cell_type": "code",
   "execution_count": 102,
   "metadata": {},
   "outputs": [],
   "source": [
    "def get_table_details():\n",
    "    # Read the CSV file into a DataFrame\n",
    "    table_description = pd.read_csv(\"database_table_descriptions.csv\")\n",
    "    # table_docs = []\n",
    "\n",
    "    # Iterate over the DataFrame rows to create Document objects\n",
    "    table_details = \"\"\n",
    "    for index, row in table_description.iterrows():\n",
    "        table_details = table_details + \"Table Name:\" + row['Table'] + \"\\n\" + \"Table Description:\" + row['Description'] + \"\\n\\n\"\n",
    "\n",
    "    return table_details"
   ]
  },
  {
   "cell_type": "code",
   "execution_count": 95,
   "metadata": {},
   "outputs": [],
   "source": [
    "class Table(BaseModel):\n",
    "    \"\"\"Table in SQL database.\"\"\"\n",
    "\n",
    "    name: str = Field(description=\"Name of table in SQL database.\")"
   ]
  },
  {
   "cell_type": "code",
   "execution_count": null,
   "metadata": {},
   "outputs": [
    {
     "name": "stdout",
     "output_type": "stream",
     "text": [
      "attendance\n",
      "login\n",
      "students\n",
      "subjects\n",
      "teacher_subject\n",
      "teachers\n"
     ]
    }
   ],
   "source": [
    "# table_names = \"\\n\".join(db.get_usable_table_names())\n",
    "# print(table_names)"
   ]
  },
  {
   "cell_type": "code",
   "execution_count": 103,
   "metadata": {},
   "outputs": [
    {
     "name": "stdout",
     "output_type": "stream",
     "text": [
      "Table Name:attendance\n",
      "Table Description:This table records the attendance of students for each subject. It includes a composite primary key consisting of the student identifier (student_id), subject identifier (subject_id), the date of the class (date), and the time slot (slot). The status column indicates whether the student was (present) or (absent). This table helps in tracking and managing student attendance for each subject and period. We can use (subject_id) to figure out which teacher(teacher_id) took the attendance with the help of (teacher_subject table). \n",
      "\n",
      "Table Name:login\n",
      "Table Description:Contains login information.\n",
      "\n",
      "Table Name:students\n",
      "Table Description:This table stores essential information about each student. It includes a unique student identifier (student_id), student_id is also known as (USN),  the full name of the student (student_name), contact details (contact), email address (email), and the names of the student's father (student_father_name) and mother (student_mother_name). This table is used to maintain personal and contact information for students.\n",
      "\n",
      "Table Name:subjects\n",
      "Table Description:This table holds information about the subjects offered. It includes a unique subject identifier (subject_id), (subject_id) is also known as (subject code), the name of the subject (subject_name), and the number of credits associated with the subject (credits). This table is used to manage subject-related details for courses and academic planning.\n",
      "\n",
      "Table Name:teacher_subject\n",
      "Table Description:This table maps which subjects are taught by each teacher. It includes the unique identifier of the teacher (teacher_id) and the unique identifier of the subject (subject_id). This table is used to establish and track the relationship between teachers and the subjects they are responsible for teaching.\n",
      "\n",
      "Table Name:teachers\n",
      "Table Description:This table contains details about the teachers. It includes a unique identifier for each teacher (teacher_id), the full name of the teacher (teacher_name), contact information (contact), and email address (email). This table is used to manage personal and contact information for the teaching staff.\n",
      "\n",
      "\n"
     ]
    }
   ],
   "source": [
    "table_details = get_table_details()\n",
    "print(table_details)"
   ]
  },
  {
   "cell_type": "code",
   "execution_count": 104,
   "metadata": {},
   "outputs": [
    {
     "name": "stdout",
     "output_type": "stream",
     "text": [
      "Return the names of ALL the SQL tables that MIGHT be relevant to the user question. The tables are:\n",
      "\n",
      "Table Name:attendance\n",
      "Table Description:This table records the attendance of students for each subject. It includes a composite primary key consisting of the student identifier (student_id), subject identifier (subject_id), the date of the class (date), and the time slot (slot). The status column indicates whether the student was (present) or (absent). This table helps in tracking and managing student attendance for each subject and period. We can use (subject_id) to figure out which teacher(teacher_id) took the attendance with the help of (teacher_subject table). \n",
      "\n",
      "Table Name:login\n",
      "Table Description:Contains login information.\n",
      "\n",
      "Table Name:students\n",
      "Table Description:This table stores essential information about each student. It includes a unique student identifier (student_id), student_id is also known as (USN),  the full name of the student (student_name), contact details (contact), email address (email), and the names of the student's father (student_father_name) and mother (student_mother_name). This table is used to maintain personal and contact information for students.\n",
      "\n",
      "Table Name:subjects\n",
      "Table Description:This table holds information about the subjects offered. It includes a unique subject identifier (subject_id), (subject_id) is also known as (subject code), the name of the subject (subject_name), and the number of credits associated with the subject (credits). This table is used to manage subject-related details for courses and academic planning.\n",
      "\n",
      "Table Name:teacher_subject\n",
      "Table Description:This table maps which subjects are taught by each teacher. It includes the unique identifier of the teacher (teacher_id) and the unique identifier of the subject (subject_id). This table is used to establish and track the relationship between teachers and the subjects they are responsible for teaching.\n",
      "\n",
      "Table Name:teachers\n",
      "Table Description:This table contains details about the teachers. It includes a unique identifier for each teacher (teacher_id), the full name of the teacher (teacher_name), contact information (contact), and email address (email). This table is used to manage personal and contact information for the teaching staff.\n",
      "\n",
      "\n",
      "\n",
      "Remember to include ALL POTENTIALLY RELEVANT tables, even if you're not sure that they're needed.\n"
     ]
    }
   ],
   "source": [
    "table_details_prompt = f\"\"\"Return the names of ALL the SQL tables that MIGHT be relevant to the user question. \\\n",
    "The tables are:\n",
    "\n",
    "{table_details}\n",
    "\n",
    "Remember to include ALL POTENTIALLY RELEVANT tables, even if you're not sure that they're needed.\"\"\"\n",
    "# table_chain = create_extraction_chain_pydantic(Table, llm)\n",
    "# tables = table_chain.invoke({\"input\": \"give me details of id 106\"})\n",
    "print(table_details_prompt)"
   ]
  },
  {
   "cell_type": "code",
   "execution_count": null,
   "metadata": {},
   "outputs": [
    {
     "name": "stderr",
     "output_type": "stream",
     "text": [
      "C:\\Users\\mayan\\AppData\\Local\\Temp\\ipykernel_4296\\1431052756.py:1: LangChainDeprecationWarning: LangChain has introduced a method called `with_structured_output` thatis available on ChatModels capable of tool calling.You can read more about the method here: <https://python.langchain.com/docs/modules/model_io/chat/structured_output/>. Please follow our extraction use case documentation for more guidelineson how to do information extraction with LLMs.<https://python.langchain.com/docs/use_cases/extraction/>. with_structured_output does not currently support a list of pydantic schemas. If this is a blocker or if you notice other issues, please provide feedback here:<https://github.com/langchain-ai/langchain/discussions/18154>\n",
      "  table_chain = create_extraction_chain_pydantic(Table, llm, system_message=table_details_prompt)\n"
     ]
    }
   ],
   "source": [
    "# table_chain = create_extraction_chain_pydantic(Table, llm, system_message=table_details_prompt)\n",
    "table_chain = llm.with_structured_output(Table)"
   ]
  },
  {
   "cell_type": "code",
   "execution_count": 116,
   "metadata": {},
   "outputs": [
    {
     "name": "stdout",
     "output_type": "stream",
     "text": [
      "[]\n"
     ]
    }
   ],
   "source": [
    "tables = table_chain.invoke(\"Who teaches ar vr?\")\n",
    "print(tables)"
   ]
  },
  {
   "cell_type": "markdown",
   "metadata": {},
   "source": [
    "<h3>History</h3>"
   ]
  },
  {
   "cell_type": "code",
   "execution_count": 45,
   "metadata": {},
   "outputs": [],
   "source": [
    "from langchain.memory import ChatMessageHistory\n",
    "history = ChatMessageHistory()"
   ]
  },
  {
   "cell_type": "code",
   "execution_count": 59,
   "metadata": {},
   "outputs": [],
   "source": [
    "# type(history)"
   ]
  },
  {
   "cell_type": "code",
   "execution_count": 46,
   "metadata": {},
   "outputs": [
    {
     "name": "stdout",
     "output_type": "stream",
     "text": [
      "System: You are a MySQL expert. Given an input question, create a syntactically correct MySQL query to run. Unless otherwise specificed.\n",
      "\n",
      "Here is the relevant table info: \n",
      "CREATE TABLE attendance (\n",
      "\tstudent_id_usn VARCHAR(15) NOT NULL, \n",
      "\tsubject_id VARCHAR(15) NOT NULL, \n",
      "\tdate DATE NOT NULL, \n",
      "\tstatus ENUM('absent','present') DEFAULT 'absent', \n",
      "\tPRIMARY KEY (student_id_usn, subject_id, date), \n",
      "\tCONSTRAINT attendance_ibfk_1 FOREIGN KEY(student_id_usn) REFERENCES students (student_id), \n",
      "\tCONSTRAINT attendance_ibfk_2 FOREIGN KEY(subject_id) REFERENCES subjects (subject_id)\n",
      ")ENGINE=InnoDB COLLATE utf8mb4_0900_ai_ci DEFAULT CHARSET=utf8mb4\n",
      "\n",
      "/*\n",
      "4 rows from attendance table:\n",
      "student_id_usn\tsubject_id\tdate\tstatus\n",
      "1DS21CS001\t21CS71\t2024-11-16\tabsent\n",
      "1DS21CS001\t21CS72\t2024-11-16\tpresent\n",
      "1DS21CS001\t21CS73\t2024-11-16\tabsent\n",
      "1DS21CS001\t21CS74\t2024-11-16\tpresent\n",
      "*/\n",
      "\n",
      "\n",
      "CREATE TABLE login (\n",
      "\tid VARCHAR(20) NOT NULL, \n",
      "\tname VARCHAR(100) NOT NULL, \n",
      "\temail VARCHAR(100) NOT NULL, \n",
      "\tpassword VARCHAR(255) NOT NULL, \n",
      "\ttype VARCHAR(50) NOT NULL\n",
      ")ENGINE=InnoDB COLLATE utf8mb4_0900_ai_ci DEFAULT CHARSET=utf8mb4\n",
      "\n",
      "/*\n",
      "4 rows from login table:\n",
      "id\tname\temail\tpassword\ttype\n",
      "1DSTC001\tHARSH KAMAL\t1DSTC001@dsce.edu.in\tpassword\tAdministrator\n",
      "1DSTC002\tKUMAR MAYANK RAJ\t1DSTC002@dsce.edu.in\tpassword\tadministrator\n",
      "1DSTC003\tPREMSUKH\t1DSTC003@dsce.edu.in\tpassword\tadministrator\n",
      "1DSTC004\tTANMAYI G\t1DSTC004@dsce.edu.in\tpassword\tadministrator\n",
      "*/\n",
      "\n",
      "\n",
      "CREATE TABLE students (\n",
      "\tstudent_id VARCHAR(10) NOT NULL, \n",
      "\tstudent_name VARCHAR(100), \n",
      "\tcontact VARCHAR(10), \n",
      "\temail VARCHAR(50) NOT NULL, \n",
      "\tstudent_father_name VARCHAR(50) NOT NULL, \n",
      "\tstudent_mother_name VARCHAR(50) NOT NULL, \n",
      "\tPRIMARY KEY (student_id), \n",
      "\tCONSTRAINT students_chk_1 CHECK (((length(`contact`) = 10) and (not((`contact` like _utf8mb4'%[^0-9]%'))))), \n",
      "\tCONSTRAINT students_chk_2 CHECK ((`email` like _utf8mb4'%_@__%.__%'))\n",
      ")ENGINE=InnoDB COLLATE utf8mb4_0900_ai_ci DEFAULT CHARSET=utf8mb4\n",
      "\n",
      "/*\n",
      "4 rows from students table:\n",
      "student_id\tstudent_name\tcontact\temail\tstudent_father_name\tstudent_mother_name\n",
      "1DS21CS001\tA N ANVITHA\t9080706001\t1ds21cs001@dsce.edu.in\t1ds21cs001_Father_name\t1ds21cs001_Mother_name\n",
      "1DS21CS002\tAADITYA KRISHNA\t9080706002\t1ds21cs002@dsce.edu.in\t1ds21cs002_Father_name\t1ds21cs002_Mother_name\n",
      "1DS21CS003\tAARUSHI DHRUV\t9080706003\t1ds21cs003@dsce.edu.in\t1ds21cs003_Father_name\t1ds21cs003_Mother_name\n",
      "1DS21CS004\tAARYA GOWDA\t9080706004\t1ds21cs004@dsce.edu.in\t1ds21cs004_Father_name\t1ds21cs004_Mother_name\n",
      "*/\n",
      "\n",
      "\n",
      "CREATE TABLE subjects (\n",
      "\tsubject_id VARCHAR(15) NOT NULL, \n",
      "\tsubject_name VARCHAR(70) NOT NULL, \n",
      "\tsubject_credits INTEGER NOT NULL, \n",
      "\tPRIMARY KEY (subject_id)\n",
      ")ENGINE=InnoDB COLLATE utf8mb4_0900_ai_ci DEFAULT CHARSET=utf8mb4\n",
      "\n",
      "/*\n",
      "4 rows from subjects table:\n",
      "subject_id\tsubject_name\tsubject_credits\n",
      "21CS71\tManagement Entrepreneurship\t3\n",
      "21CS72\tData Science and Visualization\t3\n",
      "21CS73\tNatural Language Processing\t3\n",
      "21CS74\tAR VR\t3\n",
      "*/\n",
      "\n",
      "\n",
      "CREATE TABLE teacher_subject (\n",
      "\tteacher_id VARCHAR(20) NOT NULL, \n",
      "\tsubject_id VARCHAR(15) NOT NULL, \n",
      "\tPRIMARY KEY (teacher_id, subject_id), \n",
      "\tCONSTRAINT teacher_subject_ibfk_1 FOREIGN KEY(teacher_id) REFERENCES teachers (teacher_id), \n",
      "\tCONSTRAINT teacher_subject_ibfk_2 FOREIGN KEY(subject_id) REFERENCES subjects (subject_id)\n",
      ")ENGINE=InnoDB COLLATE utf8mb4_0900_ai_ci DEFAULT CHARSET=utf8mb4\n",
      "\n",
      "/*\n",
      "4 rows from teacher_subject table:\n",
      "teacher_id\tsubject_id\n",
      "1DSTC001\t21CS71\n",
      "1DSTC001\t21CS72\n",
      "1DSTC002\t21CS73\n",
      "1DSTC002\t21CS74\n",
      "*/\n",
      "\n",
      "\n",
      "CREATE TABLE teachers (\n",
      "\tteacher_id VARCHAR(20) NOT NULL, \n",
      "\tteacher_name VARCHAR(50) NOT NULL, \n",
      "\tcontact VARCHAR(10), \n",
      "\temail VARCHAR(50) NOT NULL, \n",
      "\tPRIMARY KEY (teacher_id), \n",
      "\tCONSTRAINT teachers_chk_1 CHECK (((length(`contact`) = 10) and (not((`contact` like _utf8mb4'%[^0-9]%'))))), \n",
      "\tCONSTRAINT teachers_chk_2 CHECK ((`email` like _utf8mb4'%_@__%.__%'))\n",
      ")ENGINE=InnoDB COLLATE utf8mb4_0900_ai_ci DEFAULT CHARSET=utf8mb4\n",
      "\n",
      "/*\n",
      "4 rows from teachers table:\n",
      "teacher_id\tteacher_name\tcontact\temail\n",
      "1DSTC001\tHARSH KAMAL\t1020304001\t1DSTC001@dsce.edu.in\n",
      "1DSTC002\tKUMAR MAYANK RAJ\t1020304002\t1DSTC002@dsce.edu.in\n",
      "1DSTC003\tPREMSUKH\t1020304003\t1DSTC003@dsce.edu.in\n",
      "1DSTC004\tTANMAYI G\t1020304004\t1DSTC004@dsce.edu.in\n",
      "*/\n",
      "\n",
      "Below are a number of examples of questions and their corresponding SQL queries. Those examples are just for reference and should be considered while answering follow up questions\n",
      "Human: Who teaches business intelligence?.  Only return the SQL query, Nothing else.\n",
      "AI: SELECT teacher_name FROM teachers INNER JOIN teacher_subject ON teachers.teacher_id = teacher_subject.teacher_id INNER JOIN subjects ON teacher_subject.subject_id = subjects.subject_id WHERE subjects.subject_name = 'Business Intelligence';\n",
      "Human: What Premsukh teaches?.  Only return the SQL query, Nothing else.\n",
      "AI: select su.subject_name from teachers t inner join teacher_subject ts on t.teacher_id = ts.teacher_id inner join subjects su on su.subject_code = ts.subject_code where t.teacher_id in (select teacher_id from teachers where teacher_name like '%premsukh%'); \n",
      "Human: How many students are there?\n"
     ]
    }
   ],
   "source": [
    "final_prompt = ChatPromptTemplate.from_messages(\n",
    "     [\n",
    "         (\"system\", \"You are a MySQL expert. Given an input question, create a syntactically correct MySQL query to run. Unless otherwise specificed.\\n\\nHere is the relevant table info: {table_info}\\n\\nBelow are a number of examples of questions and their corresponding SQL queries. Those examples are just for reference and should be considered while answering follow up questions\"),\n",
    "         few_shot_prompt,\n",
    "         MessagesPlaceholder(variable_name=\"messages\"),\n",
    "         (\"human\", \"{input}\"),\n",
    "     ]\n",
    " )\n",
    "print(final_prompt.format(input=\"How many students are there?\",table_info=db.table_info,messages=[]))\n"
   ]
  },
  {
   "cell_type": "code",
   "execution_count": 48,
   "metadata": {},
   "outputs": [],
   "source": [
    "generate_query = create_sql_query_chain(llm, db,final_prompt)"
   ]
  },
  {
   "cell_type": "code",
   "execution_count": 49,
   "metadata": {},
   "outputs": [],
   "source": [
    "chain = (\n",
    " RunnablePassthrough.assign(query=generate_query).assign(\n",
    "     result=itemgetter(\"query\") | execute_query\n",
    " )\n",
    " | rephrase_answer\n",
    " )"
   ]
  },
  {
   "cell_type": "code",
   "execution_count": 67,
   "metadata": {},
   "outputs": [],
   "source": [
    "history.clear()"
   ]
  },
  {
   "cell_type": "code",
   "execution_count": null,
   "metadata": {},
   "outputs": [
    {
     "data": {
      "text/plain": [
       "list"
      ]
     },
     "execution_count": 47,
     "metadata": {},
     "output_type": "execute_result"
    }
   ],
   "source": [
    "# type(history.messages)"
   ]
  },
  {
   "cell_type": "code",
   "execution_count": 63,
   "metadata": {},
   "outputs": [],
   "source": [
    "question = \"Give me details of 087?\""
   ]
  },
  {
   "cell_type": "code",
   "execution_count": 65,
   "metadata": {},
   "outputs": [
    {
     "name": "stdout",
     "output_type": "stream",
     "text": [
      "[]\n"
     ]
    }
   ],
   "source": [
    "print(history.messages)"
   ]
  },
  {
   "cell_type": "code",
   "execution_count": 64,
   "metadata": {},
   "outputs": [
    {
     "data": {
      "text/plain": [
       "\"The student with ID 087 is Harsh Kamal. His contact number is 9080706085, and his email address is 1ds21cs087@dsce.edu.in. Unfortunately, the information about his father's and mother's names is not available.\""
      ]
     },
     "execution_count": 64,
     "metadata": {},
     "output_type": "execute_result"
    }
   ],
   "source": [
    "response = chain.invoke({\"question\": question,\"messages\":history.messages})\n",
    "response"
   ]
  },
  {
   "cell_type": "code",
   "execution_count": 66,
   "metadata": {},
   "outputs": [
    {
     "name": "stdout",
     "output_type": "stream",
     "text": [
      "[HumanMessage(content='Give me details of 087?', additional_kwargs={}, response_metadata={}), AIMessage(content=\"The student with ID 087 is Harsh Kamal. His contact number is 9080706085, and his email address is 1ds21cs087@dsce.edu.in. Unfortunately, the information about his father's and mother's names is not available.\", additional_kwargs={}, response_metadata={})]\n"
     ]
    }
   ],
   "source": [
    "history.add_user_message(question)\n",
    "history.add_ai_message(response)\n",
    "print(history.messages)"
   ]
  },
  {
   "cell_type": "code",
   "execution_count": null,
   "metadata": {},
   "outputs": [],
   "source": [
    "response = chain.invoke({\"question\": \"Can you give me name of first 5?\",\"messages\":history.messages})\n",
    "print(response)"
   ]
  },
  {
   "cell_type": "code",
   "execution_count": null,
   "metadata": {},
   "outputs": [],
   "source": []
  }
 ],
 "metadata": {
  "kernelspec": {
   "display_name": "sqlenv",
   "language": "python",
   "name": "python3"
  },
  "language_info": {
   "codemirror_mode": {
    "name": "ipython",
    "version": 3
   },
   "file_extension": ".py",
   "mimetype": "text/x-python",
   "name": "python",
   "nbconvert_exporter": "python",
   "pygments_lexer": "ipython3",
   "version": "3.12.3"
  }
 },
 "nbformat": 4,
 "nbformat_minor": 4
}
