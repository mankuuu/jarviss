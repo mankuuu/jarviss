{
 "cells": [
  {
   "cell_type": "markdown",
   "metadata": {},
   "source": [
    "<h3>Importing the environment variables</h3>"
   ]
  },
  {
   "cell_type": "code",
   "execution_count": 1,
   "metadata": {},
   "outputs": [
    {
     "data": {
      "text/plain": [
       "True"
      ]
     },
     "execution_count": 1,
     "metadata": {},
     "output_type": "execute_result"
    }
   ],
   "source": [
    "import os\n",
    "from dotenv import load_dotenv\n",
    "\n",
    "load_dotenv()"
   ]
  },
  {
   "cell_type": "code",
   "execution_count": 2,
   "metadata": {},
   "outputs": [],
   "source": [
    "LANGCHAIN_TRACING_V2 = os.getenv(\"LANGCHAIN_TRACING_V2\")\n",
    "LANGCHAIN_API_KEY = os.getenv(\"LANGCHAIN_API_KEY\")"
   ]
  },
  {
   "cell_type": "markdown",
   "metadata": {},
   "source": [
    "<h3>Connecting and loading the Database</h3>"
   ]
  },
  {
   "cell_type": "code",
   "execution_count": 3,
   "metadata": {},
   "outputs": [],
   "source": [
    "from langchain_community.utilities.sql_database import SQLDatabase"
   ]
  },
  {
   "cell_type": "code",
   "execution_count": 4,
   "metadata": {},
   "outputs": [],
   "source": [
    "db_user = os.getenv(\"db_user\")\n",
    "db_password = os.getenv(\"db_password\")\n",
    "db_host = os.getenv(\"db_host\")\n",
    "db_name = os.getenv(\"db_name\")"
   ]
  },
  {
   "cell_type": "code",
   "execution_count": 5,
   "metadata": {},
   "outputs": [],
   "source": [
    "mysql_uri = f\"mysql+mysqlconnector://{db_user}:{db_password}@{db_host}/{db_name}\"\n",
    "\n",
    "db = SQLDatabase.from_uri(mysql_uri , sample_rows_in_table_info = 4)"
   ]
  },
  {
   "cell_type": "code",
   "execution_count": 7,
   "metadata": {},
   "outputs": [
    {
     "name": "stdout",
     "output_type": "stream",
     "text": [
      "['attendance', 'login', 'students', 'subjects', 'teacher_subject', 'teachers']\n"
     ]
    }
   ],
   "source": [
    "print(db.get_usable_table_names())\n",
    "# print(db.table_info)"
   ]
  },
  {
   "cell_type": "markdown",
   "metadata": {},
   "source": [
    "<h3>Creating the model</h3>"
   ]
  },
  {
   "cell_type": "code",
   "execution_count": 8,
   "metadata": {},
   "outputs": [],
   "source": [
    "from langchain.chains import create_sql_query_chain\n",
    "from langchain_ollama import ChatOllama\n",
    "from langchain_groq import ChatGroq"
   ]
  },
  {
   "cell_type": "code",
   "execution_count": 9,
   "metadata": {},
   "outputs": [],
   "source": [
    "llm = ChatOllama(model=\"llama3.1\" , temperature= 0)"
   ]
  },
  {
   "cell_type": "code",
   "execution_count": 10,
   "metadata": {},
   "outputs": [],
   "source": [
    "GROQ_API_KEY = os.getenv(\"GROQ_API_KEY\")\n",
    "\n",
    "llm = ChatGroq(\n",
    "    model=\"llama3-groq-70b-8192-tool-use-preview\",\n",
    "    temperature=0,\n",
    "    max_tokens=None,\n",
    "    timeout=None,\n",
    ")"
   ]
  },
  {
   "cell_type": "markdown",
   "metadata": {},
   "source": [
    "<h4>Creating the first phase of operation - Generating the query and executing it</h4>"
   ]
  },
  {
   "cell_type": "markdown",
   "metadata": {},
   "source": [
    "<p>Creating the query generator</p>"
   ]
  },
  {
   "cell_type": "code",
   "execution_count": null,
   "metadata": {},
   "outputs": [],
   "source": [
    "#The very first step in our interaction\n",
    "generate_query = create_sql_query_chain(llm , db)       #It also needs a final prompt which we will give later"
   ]
  },
  {
   "cell_type": "code",
   "execution_count": 12,
   "metadata": {},
   "outputs": [],
   "source": [
    "suffix = \" Only return the SQL query, Nothing else.\""
   ]
  },
  {
   "cell_type": "code",
   "execution_count": 13,
   "metadata": {},
   "outputs": [
    {
     "name": "stdout",
     "output_type": "stream",
     "text": [
      "SELECT COUNT(*) AS total_students FROM students\n"
     ]
    }
   ],
   "source": [
    "query = generate_query.invoke({\"question\" : \"How many students are there?\" + suffix})\n",
    "print(query)"
   ]
  },
  {
   "cell_type": "markdown",
   "metadata": {},
   "source": [
    "<p>Creating the SQL Executor</p>"
   ]
  },
  {
   "cell_type": "code",
   "execution_count": 14,
   "metadata": {},
   "outputs": [],
   "source": [
    "from langchain_community.tools.sql_database.tool import QuerySQLDataBaseTool"
   ]
  },
  {
   "cell_type": "code",
   "execution_count": 15,
   "metadata": {},
   "outputs": [
    {
     "data": {
      "text/plain": [
       "'[(284,)]'"
      ]
     },
     "execution_count": 15,
     "metadata": {},
     "output_type": "execute_result"
    }
   ],
   "source": [
    "execute_query = QuerySQLDataBaseTool(db = db)\n",
    "execute_query.invoke(query)"
   ]
  },
  {
   "cell_type": "markdown",
   "metadata": {},
   "source": [
    "<p>Chaining the Query generator and Executor</p>"
   ]
  },
  {
   "cell_type": "code",
   "execution_count": 16,
   "metadata": {},
   "outputs": [],
   "source": [
    "#Creating the chain of above 2 steps\n",
    "chain = generate_query | execute_query"
   ]
  },
  {
   "cell_type": "code",
   "execution_count": 17,
   "metadata": {},
   "outputs": [
    {
     "data": {
      "text/plain": [
       "'[(284,)]'"
      ]
     },
     "execution_count": 17,
     "metadata": {},
     "output_type": "execute_result"
    }
   ],
   "source": [
    "chain.invoke({\"question\" : \"How many students are there?\" + suffix})"
   ]
  },
  {
   "cell_type": "markdown",
   "metadata": {},
   "source": [
    "<h4>Creating the second phase of operation - Feeding the obtained result to generate Natural Language Response</h4>"
   ]
  },
  {
   "cell_type": "markdown",
   "metadata": {},
   "source": [
    "<p>Creating an answer prompt to give to second phase llm for natural responses</p>"
   ]
  },
  {
   "cell_type": "code",
   "execution_count": 18,
   "metadata": {},
   "outputs": [],
   "source": [
    "from operator import itemgetter\n",
    "\n",
    "from langchain_core.output_parsers import StrOutputParser\n",
    "from langchain_core.prompts import PromptTemplate\n",
    "from langchain_core.runnables import RunnablePassthrough"
   ]
  },
  {
   "cell_type": "code",
   "execution_count": 19,
   "metadata": {},
   "outputs": [],
   "source": [
    "answer_prompt = PromptTemplate.from_template(\n",
    "     \"\"\"Given the following user question, corresponding SQL query, and SQL result, answer the user question in natural english language.If the result is blank, then answer in negative.\n",
    "\n",
    " Question: {question}\n",
    " SQL Query: {query}\n",
    " SQL Result: {result}\n",
    " Answer: \"\"\"\n",
    " )"
   ]
  },
  {
   "cell_type": "markdown",
   "metadata": {},
   "source": [
    "<p>Chaining the answer prompt to llm and the extracting the response as plain old String</p>"
   ]
  },
  {
   "cell_type": "code",
   "execution_count": 20,
   "metadata": {},
   "outputs": [],
   "source": [
    "rephrase_answer = answer_prompt | llm | StrOutputParser()"
   ]
  },
  {
   "cell_type": "markdown",
   "metadata": {},
   "source": [
    "<p>Appending this chain to our operational chain</p>"
   ]
  },
  {
   "cell_type": "code",
   "execution_count": 21,
   "metadata": {},
   "outputs": [],
   "source": [
    "chain = (\n",
    "     RunnablePassthrough.assign(query=generate_query).assign(\n",
    "         result=itemgetter(\"query\") | execute_query\n",
    "     )\n",
    "     | rephrase_answer\n",
    " )"
   ]
  },
  {
   "cell_type": "code",
   "execution_count": 22,
   "metadata": {},
   "outputs": [
    {
     "data": {
      "text/plain": [
       "'There are 284 students.'"
      ]
     },
     "execution_count": 22,
     "metadata": {},
     "output_type": "execute_result"
    }
   ],
   "source": [
    "chain.invoke({\"question\": \"How many students?\" + suffix})"
   ]
  },
  {
   "cell_type": "markdown",
   "metadata": {},
   "source": [
    "<h3>Creating Few-Shot Prompts</h3>"
   ]
  },
  {
   "cell_type": "code",
   "execution_count": 26,
   "metadata": {},
   "outputs": [],
   "source": [
    "examples = [                                #These examples behave like training set to llm making it to believe we had a conversation like this\n",
    "    {\n",
    "        \"input\" : \"List all students of the class\" , \n",
    "        \"query\" : \"SELECT * FROM students;\"\n",
    "    } ,\n",
    "    {\n",
    "        \"input\" : \"Give me the usn of all students\" , \n",
    "        \"query\" : \"SELECT student_id FROM students;\"\n",
    "    } ,\n",
    "    {\n",
    "        \"input\" : \"Give me details of student id 106\" , \n",
    "        \"query\" : \"SELECT * FROM students WHERE student_id = '1DS21CS106'\"\n",
    "    } ,\n",
    "    {\n",
    "        \"input\" : \"Who is 087?\" , \n",
    "        \"query\" : \"SELECT * FROM students WHERE student_id = '1DS21CS087'\"\n",
    "    } ,\n",
    "    {\n",
    "        \"input\" : \"Give me details of student id 1ds21cs087\" , \n",
    "        \"query\" : \"SELECT * FROM students WHERE student_id = '1DS21CS087'\"\n",
    "    } ,\n",
    "    {\n",
    "        \"input\" : \"Give me details of usn 234\" , \n",
    "        \"query\" : \"SELECT * FROM students WHERE student_id = '1DS21CS234'\"\n",
    "    } ,\n",
    "    {\n",
    "        \"input\" : \"Give me details of usn 1ds21cs234\" , \n",
    "        \"query\" : \"SELECT * FROM students WHERE student_id = '1DS21CS234'\"\n",
    "    } , \n",
    "    {\n",
    "        \"input\" : \"Who teaches ar vr?\" ,\n",
    "        \"query\" : \"SELECT teacher_name FROM teachers INNER JOIN teacher_subject ON teachers.teacher_id = teacher_subject.teacher_id INNER JOIN subjects ON teacher_subject.subject_id = subjects.subject_id WHERE subjects.subject_name = 'AR VR';\"\n",
    "    } , \n",
    "    {\n",
    "        \"input\" : \"Who teaches business intelligence?\" ,\n",
    "        \"query\" : \"SELECT teacher_name FROM teachers INNER JOIN teacher_subject ON teachers.teacher_id = teacher_subject.teacher_id INNER JOIN subjects ON teacher_subject.subject_id = subjects.subject_id WHERE subjects.subject_name = 'Business Intelligence';\"\n",
    "    } ,\n",
    "    {\n",
    "        \"input\" : \"What Premsukh teaches?\" ,\n",
    "        \"query\" : \"select su.subject_name from teachers t inner join teacher_subject ts on t.teacher_id = ts.teacher_id inner join subjects su on su.subject_code = ts.subject_code where t.teacher_id in (select teacher_id from teachers where teacher_name like '%premsukh%'); \"\n",
    "    } ,\n",
    "    {\n",
    "        \"input\" : \"what Harsh teaches?\" , \n",
    "        \"query\" : \"select su.subject_name from teachers t inner join teacher_subject ts on t.teacher_id = ts.teacher_id inner join subjects su on su.subject_code = ts.subject_code where t.teacher_id in (select teacher_id from teachers where teacher_name like '%harsh%'); \"\n",
    "    } ,\n",
    "    {\n",
    "        \"input\" : \"How many subjects Tanmayi teaches?\" ,\n",
    "        \"query\" : \"SELECT COUNT(*) FROM teacher_subject ts WHERE teacher_id IN (SELECT teacher_id FROM teachers t WHERE t.teacher_name LIKE '%tanmayi%');\"\n",
    "    } ,\n",
    "]"
   ]
  },
  {
   "cell_type": "markdown",
   "metadata": {},
   "source": [
    "<p>Creating Prompt Templates</p>"
   ]
  },
  {
   "cell_type": "code",
   "execution_count": 27,
   "metadata": {},
   "outputs": [],
   "source": [
    "from langchain_core.prompts import ChatPromptTemplate , MessagesPlaceholder , FewShotChatMessagePromptTemplate"
   ]
  },
  {
   "cell_type": "code",
   "execution_count": 29,
   "metadata": {},
   "outputs": [],
   "source": [
    "example_prompt = ChatPromptTemplate.from_messages(              #The above examples will be presented to llm in this format\n",
    "    [\n",
    "        # (\"human\" , \"{input}\\nSQLQuery:\"),\n",
    "        (\"human\" , \"{input}. \" + suffix),\n",
    "        (\"ai\" , \"{query}\"), \n",
    "    ]\n",
    ")\n",
    "\n",
    "#Mind you, this is just a format. It does not contain the above examples yet."
   ]
  },
  {
   "cell_type": "code",
   "execution_count": 30,
   "metadata": {},
   "outputs": [],
   "source": [
    "#This template will connect the above examples and the format speicified above.\n",
    "few_shot_prompt = FewShotChatMessagePromptTemplate(\n",
    "    example_prompt=example_prompt ,\n",
    "    examples= examples ,\n",
    "    input_variables=[\"input\"],                  \n",
    ")"
   ]
  },
  {
   "cell_type": "code",
   "execution_count": 31,
   "metadata": {},
   "outputs": [
    {
     "name": "stdout",
     "output_type": "stream",
     "text": [
      "Human: List all students of the class.  Only return the SQL query, Nothing else.\n",
      "AI: SELECT * FROM students;\n",
      "Human: Give me the usn of all students.  Only return the SQL query, Nothing else.\n",
      "AI: SELECT student_id FROM students;\n",
      "Human: Give me details of student id 106.  Only return the SQL query, Nothing else.\n",
      "AI: SELECT * FROM students WHERE student_id = '1DS21CS106'\n",
      "Human: Who is 087?.  Only return the SQL query, Nothing else.\n",
      "AI: SELECT * FROM students WHERE student_id = '1DS21CS087'\n",
      "Human: Give me details of student id 1ds21cs087.  Only return the SQL query, Nothing else.\n",
      "AI: SELECT * FROM students WHERE student_id = '1DS21CS087'\n",
      "Human: Give me details of usn 234.  Only return the SQL query, Nothing else.\n",
      "AI: SELECT * FROM students WHERE student_id = '1DS21CS234'\n",
      "Human: Give me details of usn 1ds21cs234.  Only return the SQL query, Nothing else.\n",
      "AI: SELECT * FROM students WHERE student_id = '1DS21CS234'\n",
      "Human: Who teaches ar vr?.  Only return the SQL query, Nothing else.\n",
      "AI: SELECT teacher_name FROM teachers INNER JOIN teacher_subject ON teachers.teacher_id = teacher_subject.teacher_id INNER JOIN subjects ON teacher_subject.subject_id = subjects.subject_id WHERE subjects.subject_name = 'AR VR';\n",
      "Human: Who teaches business intelligence?.  Only return the SQL query, Nothing else.\n",
      "AI: SELECT teacher_name FROM teachers INNER JOIN teacher_subject ON teachers.teacher_id = teacher_subject.teacher_id INNER JOIN subjects ON teacher_subject.subject_id = subjects.subject_id WHERE subjects.subject_name = 'Business Intelligence';\n",
      "Human: What Premsukh teaches?.  Only return the SQL query, Nothing else.\n",
      "AI: select su.subject_name from teachers t inner join teacher_subject ts on t.teacher_id = ts.teacher_id inner join subjects su on su.subject_code = ts.subject_code where t.teacher_id in (select teacher_id from teachers where teacher_name like '%premsukh%'); \n",
      "Human: what Harsh teaches?.  Only return the SQL query, Nothing else.\n",
      "AI: select su.subject_name from teachers t inner join teacher_subject ts on t.teacher_id = ts.teacher_id inner join subjects su on su.subject_code = ts.subject_code where t.teacher_id in (select teacher_id from teachers where teacher_name like '%harsh%'); \n",
      "Human: How many subjects Tanmayi teaches?.  Only return the SQL query, Nothing else.\n",
      "AI: SELECT COUNT(*) FROM teacher_subject ts WHERE teacher_id IN (SELECT teacher_id FROM teachers t WHERE t.teacher_name LIKE '%tanmayi%');\n"
     ]
    }
   ],
   "source": [
    "print(few_shot_prompt.format(input=\"How many students are there?\"))"
   ]
  },
  {
   "cell_type": "markdown",
   "metadata": {},
   "source": [
    "<p>If you notice , there can be a lot of examples which may be irrelevant to question asked, so we plan to pass only relevant examples <b><i>dynamically</i></b> to the llm</p>"
   ]
  },
  {
   "cell_type": "markdown",
   "metadata": {},
   "source": [
    "<p>Creating dynamic few shot selections</p>"
   ]
  },
  {
   "cell_type": "code",
   "execution_count": 34,
   "metadata": {},
   "outputs": [],
   "source": [
    "#Dynamic few-shot selections\n",
    "from langchain_chroma import Chroma                                                     #To store the vector Database\n",
    "from langchain_core.example_selectors import SemanticSimilarityExampleSelector\n",
    "from langchain_ollama import OllamaEmbeddings                                           #To embed the exampels"
   ]
  },
  {
   "cell_type": "code",
   "execution_count": 35,
   "metadata": {},
   "outputs": [],
   "source": [
    "vectorstore = Chroma()\n",
    "vectorstore.delete_collection()                                                #Clearing the contents of database beforehand"
   ]
  },
  {
   "cell_type": "code",
   "execution_count": null,
   "metadata": {},
   "outputs": [],
   "source": [
    "#We will create a method which will dynamically select the most relevent and similar in semantics to the question asked\n",
    "example_selector = SemanticSimilarityExampleSelector.from_examples(\n",
    "    examples,\n",
    "    OllamaEmbeddings(model=\"llama3.1\",),\n",
    "    vectorstore,\n",
    "    k=2,\n",
    "    input_keys=[\"input\"],\n",
    ")"
   ]
  },
  {
   "cell_type": "code",
   "execution_count": 41,
   "metadata": {},
   "outputs": [],
   "source": [
    "example_selector_input = \"Who teaches software atchitecture?\""
   ]
  },
  {
   "cell_type": "code",
   "execution_count": 42,
   "metadata": {},
   "outputs": [
    {
     "data": {
      "text/plain": [
       "[{'input': 'Who teaches business intelligence?',\n",
       "  'query': \"SELECT teacher_name FROM teachers INNER JOIN teacher_subject ON teachers.teacher_id = teacher_subject.teacher_id INNER JOIN subjects ON teacher_subject.subject_id = subjects.subject_id WHERE subjects.subject_name = 'Business Intelligence';\"},\n",
       " {'input': 'Who teaches ar vr?',\n",
       "  'query': \"SELECT teacher_name FROM teachers INNER JOIN teacher_subject ON teachers.teacher_id = teacher_subject.teacher_id INNER JOIN subjects ON teacher_subject.subject_id = subjects.subject_id WHERE subjects.subject_name = 'AR VR';\"}]"
      ]
     },
     "execution_count": 42,
     "metadata": {},
     "output_type": "execute_result"
    }
   ],
   "source": [
    "example_selector.select_examples({\"input\": example_selector_input})"
   ]
  },
  {
   "cell_type": "markdown",
   "metadata": {},
   "source": [
    "<p>In case of curiosity , how embeddings work, Run this</p>"
   ]
  },
  {
   "cell_type": "code",
   "execution_count": 44,
   "metadata": {},
   "outputs": [],
   "source": [
    "# embed = OllamaEmbeddings(\n",
    "#     model=\"llama3.1\"\n",
    "# )\n",
    "\n",
    "# input_text = \"Who teaches Generative AI?\"\n",
    "# vector = embed.embed_query(input_text)\n",
    "# print(vector[:3])\n",
    "\n",
    "# input_text = \"Who teaches business intelligence?\"\n",
    "# vector = embed.embed_query(input_text)\n",
    "# print(vector[:3])"
   ]
  },
  {
   "cell_type": "markdown",
   "metadata": {},
   "source": [
    "<p>We will pass this method to our earlier defined few_shot_prompt so that it can dynamically pass the relevant examples to the llm</p>"
   ]
  },
  {
   "cell_type": "code",
   "execution_count": 46,
   "metadata": {},
   "outputs": [],
   "source": [
    "few_shot_prompt = FewShotChatMessagePromptTemplate(\n",
    "    example_prompt=example_prompt,                          #The format     \n",
    "    example_selector=example_selector,                      #The dynamic few shot selector\n",
    "    input_variables=[\"input\", \"top_k\"],                     \n",
    ")"
   ]
  },
  {
   "cell_type": "code",
   "execution_count": 47,
   "metadata": {},
   "outputs": [],
   "source": [
    "few_shot_prompt_input = \"Who teaches management entrepreneurship?\""
   ]
  },
  {
   "cell_type": "code",
   "execution_count": 48,
   "metadata": {},
   "outputs": [
    {
     "name": "stdout",
     "output_type": "stream",
     "text": [
      "Human: Who teaches business intelligence?.  Only return the SQL query, Nothing else.\n",
      "AI: SELECT teacher_name FROM teachers INNER JOIN teacher_subject ON teachers.teacher_id = teacher_subject.teacher_id INNER JOIN subjects ON teacher_subject.subject_id = subjects.subject_id WHERE subjects.subject_name = 'Business Intelligence';\n",
      "Human: Who teaches ar vr?.  Only return the SQL query, Nothing else.\n",
      "AI: SELECT teacher_name FROM teachers INNER JOIN teacher_subject ON teachers.teacher_id = teacher_subject.teacher_id INNER JOIN subjects ON teacher_subject.subject_id = subjects.subject_id WHERE subjects.subject_name = 'AR VR';\n"
     ]
    }
   ],
   "source": [
    "print(few_shot_prompt.format(input=few_shot_prompt_input))"
   ]
  },
  {
   "cell_type": "markdown",
   "metadata": {},
   "source": [
    "<p>Now we will merge all our templates and make it a final one to pass to llm</p>"
   ]
  },
  {
   "cell_type": "code",
   "execution_count": 54,
   "metadata": {},
   "outputs": [],
   "source": [
    "final_prompt = ChatPromptTemplate.from_messages(\n",
    "    [\n",
    "        (\"system\", \"You are a MySQL expert. Given an input question, create a syntactically correct MySQL query to run. Unless otherwise specificed.\\n\\nHere is the relevant table info: {table_info}\\n\\nBelow are a number of examples of questions and their corresponding SQL queries.\"),\n",
    "        few_shot_prompt,\n",
    "        (\"human\", \"{input}\"),\n",
    "    ]\n",
    ")"
   ]
  },
  {
   "cell_type": "code",
   "execution_count": 55,
   "metadata": {},
   "outputs": [],
   "source": [
    "final_prompt_input = \"Who is 098?\""
   ]
  },
  {
   "cell_type": "code",
   "execution_count": 56,
   "metadata": {},
   "outputs": [
    {
     "name": "stdout",
     "output_type": "stream",
     "text": [
      "System: You are a MySQL expert. Given an input question, create a syntactically correct MySQL query to run. Unless otherwise specificed.\n",
      "\n",
      "Here is the relevant table info: \n",
      "CREATE TABLE attendance (\n",
      "\tstudent_id VARCHAR(15) NOT NULL, \n",
      "\tsubject_id VARCHAR(15) NOT NULL, \n",
      "\tdate DATE NOT NULL, \n",
      "\tstatus ENUM('absent','present') DEFAULT 'absent', \n",
      "\tPRIMARY KEY (student_id, subject_id, date), \n",
      "\tCONSTRAINT attendance_ibfk_1 FOREIGN KEY(student_id) REFERENCES students (student_id), \n",
      "\tCONSTRAINT attendance_ibfk_2 FOREIGN KEY(subject_id) REFERENCES subjects (subject_id)\n",
      ")DEFAULT CHARSET=utf8mb4 COLLATE utf8mb4_0900_ai_ci ENGINE=InnoDB\n",
      "\n",
      "/*\n",
      "4 rows from attendance table:\n",
      "student_id\tsubject_id\tdate\tstatus\n",
      "1DS21CS001\t21CS71\t2024-11-16\tabsent\n",
      "1DS21CS001\t21CS72\t2024-11-16\tpresent\n",
      "1DS21CS001\t21CS73\t2024-11-16\tabsent\n",
      "1DS21CS001\t21CS74\t2024-11-16\tpresent\n",
      "*/\n",
      "\n",
      "\n",
      "CREATE TABLE login (\n",
      "\tid VARCHAR(20) NOT NULL, \n",
      "\tname VARCHAR(100) NOT NULL, \n",
      "\temail VARCHAR(100) NOT NULL, \n",
      "\tpassword VARCHAR(255) NOT NULL, \n",
      "\ttype VARCHAR(50) NOT NULL\n",
      ")DEFAULT CHARSET=utf8mb4 COLLATE utf8mb4_0900_ai_ci ENGINE=InnoDB\n",
      "\n",
      "/*\n",
      "4 rows from login table:\n",
      "id\tname\temail\tpassword\ttype\n",
      "1DSTC001\tHARSH KAMAL\t1DSTC001@dsce.edu.in\tpassword\tAdministrator\n",
      "1DSTC002\tKUMAR MAYANK RAJ\t1DSTC002@dsce.edu.in\tpassword\tadministrator\n",
      "1DSTC003\tPREMSUKH\t1DSTC003@dsce.edu.in\tpassword\tadministrator\n",
      "1DSTC004\tTANMAYI G\t1DSTC004@dsce.edu.in\tpassword\tadministrator\n",
      "*/\n",
      "\n",
      "\n",
      "CREATE TABLE students (\n",
      "\tstudent_id VARCHAR(10) NOT NULL, \n",
      "\tstudent_name VARCHAR(100), \n",
      "\tcontact VARCHAR(10), \n",
      "\temail VARCHAR(50) NOT NULL, \n",
      "\tstudent_father_name VARCHAR(50) NOT NULL, \n",
      "\tstudent_mother_name VARCHAR(50) NOT NULL, \n",
      "\tPRIMARY KEY (student_id), \n",
      "\tCONSTRAINT students_chk_1 CHECK (((length(`contact`) = 10) and (not((`contact` like _utf8mb4'%[^0-9]%'))))), \n",
      "\tCONSTRAINT students_chk_2 CHECK ((`email` like _utf8mb4'%_@__%.__%'))\n",
      ")DEFAULT CHARSET=utf8mb4 COLLATE utf8mb4_0900_ai_ci ENGINE=InnoDB\n",
      "\n",
      "/*\n",
      "4 rows from students table:\n",
      "student_id\tstudent_name\tcontact\temail\tstudent_father_name\tstudent_mother_name\n",
      "1DS21CS001\tA N ANVITHA\t9080706001\t1ds21cs001@dsce.edu.in\t1ds21cs001_Father_name\t1ds21cs001_Mother_name\n",
      "1DS21CS002\tAADITYA KRISHNA\t9080706002\t1ds21cs002@dsce.edu.in\t1ds21cs002_Father_name\t1ds21cs002_Mother_name\n",
      "1DS21CS003\tAARUSHI DHRUV\t9080706003\t1ds21cs003@dsce.edu.in\t1ds21cs003_Father_name\t1ds21cs003_Mother_name\n",
      "1DS21CS004\tAARYA GOWDA\t9080706004\t1ds21cs004@dsce.edu.in\t1ds21cs004_Father_name\t1ds21cs004_Mother_name\n",
      "*/\n",
      "\n",
      "\n",
      "CREATE TABLE subjects (\n",
      "\tsubject_id VARCHAR(15) NOT NULL, \n",
      "\tsubject_name VARCHAR(70) NOT NULL, \n",
      "\tsubject_credits INTEGER NOT NULL, \n",
      "\tPRIMARY KEY (subject_id)\n",
      ")DEFAULT CHARSET=utf8mb4 COLLATE utf8mb4_0900_ai_ci ENGINE=InnoDB\n",
      "\n",
      "/*\n",
      "4 rows from subjects table:\n",
      "subject_id\tsubject_name\tsubject_credits\n",
      "21CS71\tManagement Entrepreneurship\t3\n",
      "21CS72\tData Science and Visualization\t3\n",
      "21CS73\tNatural Language Processing\t3\n",
      "21CS74\tAR VR\t3\n",
      "*/\n",
      "\n",
      "\n",
      "CREATE TABLE teacher_subject (\n",
      "\tteacher_id VARCHAR(20) NOT NULL, \n",
      "\tsubject_id VARCHAR(15) NOT NULL, \n",
      "\tPRIMARY KEY (teacher_id, subject_id), \n",
      "\tCONSTRAINT teacher_subject_ibfk_1 FOREIGN KEY(teacher_id) REFERENCES teachers (teacher_id), \n",
      "\tCONSTRAINT teacher_subject_ibfk_2 FOREIGN KEY(subject_id) REFERENCES subjects (subject_id)\n",
      ")DEFAULT CHARSET=utf8mb4 COLLATE utf8mb4_0900_ai_ci ENGINE=InnoDB\n",
      "\n",
      "/*\n",
      "4 rows from teacher_subject table:\n",
      "teacher_id\tsubject_id\n",
      "1DSTC001\t21CS71\n",
      "1DSTC001\t21CS72\n",
      "1DSTC002\t21CS73\n",
      "1DSTC002\t21CS74\n",
      "*/\n",
      "\n",
      "\n",
      "CREATE TABLE teachers (\n",
      "\tteacher_id VARCHAR(20) NOT NULL, \n",
      "\tteacher_name VARCHAR(50) NOT NULL, \n",
      "\tcontact VARCHAR(10), \n",
      "\temail VARCHAR(50) NOT NULL, \n",
      "\tPRIMARY KEY (teacher_id), \n",
      "\tCONSTRAINT teachers_chk_1 CHECK (((length(`contact`) = 10) and (not((`contact` like _utf8mb4'%[^0-9]%'))))), \n",
      "\tCONSTRAINT teachers_chk_2 CHECK ((`email` like _utf8mb4'%_@__%.__%'))\n",
      ")DEFAULT CHARSET=utf8mb4 COLLATE utf8mb4_0900_ai_ci ENGINE=InnoDB\n",
      "\n",
      "/*\n",
      "4 rows from teachers table:\n",
      "teacher_id\tteacher_name\tcontact\temail\n",
      "1DSTC001\tHARSH KAMAL\t1020304001\t1DSTC001@dsce.edu.in\n",
      "1DSTC002\tKUMAR MAYANK RAJ\t1020304002\t1DSTC002@dsce.edu.in\n",
      "1DSTC003\tPREMSUKH\t1020304003\t1DSTC003@dsce.edu.in\n",
      "1DSTC004\tTANMAYI G\t1020304004\t1DSTC004@dsce.edu.in\n",
      "*/\n",
      "\n",
      "Below are a number of examples of questions and their corresponding SQL queries.\n",
      "Human: Who is 087?.  Only return the SQL query, Nothing else.\n",
      "AI: SELECT * FROM students WHERE student_id = '1DS21CS087'\n",
      "Human: what Harsh teaches?.  Only return the SQL query, Nothing else.\n",
      "AI: select su.subject_name from teachers t inner join teacher_subject ts on t.teacher_id = ts.teacher_id inner join subjects su on su.subject_code = ts.subject_code where t.teacher_id in (select teacher_id from teachers where teacher_name like '%harsh%'); \n",
      "Human: Who is 098?\n"
     ]
    }
   ],
   "source": [
    "print(final_prompt.format(input=final_prompt_input,table_info=db.table_info))"
   ]
  },
  {
   "cell_type": "markdown",
   "metadata": {},
   "source": [
    "<p>As told earlier , the final prompt will be give to the query generator. Now is the time. </p>"
   ]
  },
  {
   "cell_type": "code",
   "execution_count": 57,
   "metadata": {},
   "outputs": [],
   "source": [
    "generate_query = create_sql_query_chain(llm, db,final_prompt)"
   ]
  },
  {
   "cell_type": "markdown",
   "metadata": {},
   "source": [
    "<p>Update the chain as well</p>"
   ]
  },
  {
   "cell_type": "code",
   "execution_count": 59,
   "metadata": {},
   "outputs": [],
   "source": [
    "chain = (\n",
    "RunnablePassthrough.assign(query=generate_query).assign(\n",
    "    result=itemgetter(\"query\") | execute_query\n",
    ")\n",
    "| rephrase_answer\n",
    ")"
   ]
  },
  {
   "cell_type": "code",
   "execution_count": 60,
   "metadata": {},
   "outputs": [
    {
     "data": {
      "text/plain": [
       "'There are 284 students.'"
      ]
     },
     "execution_count": 60,
     "metadata": {},
     "output_type": "execute_result"
    }
   ],
   "source": [
    "chain.invoke({\"question\" : \"How many students are there?\"})"
   ]
  },
  {
   "cell_type": "markdown",
   "metadata": {},
   "source": [
    "<h3>Adding memory to the chat</h3>"
   ]
  },
  {
   "cell_type": "code",
   "execution_count": 61,
   "metadata": {},
   "outputs": [],
   "source": [
    "from langchain.memory import ChatMessageHistory\n",
    "history = ChatMessageHistory()"
   ]
  },
  {
   "cell_type": "markdown",
   "metadata": {},
   "source": [
    "<p>Tweaking the final prompt to add the past conversation</p>"
   ]
  },
  {
   "cell_type": "code",
   "execution_count": null,
   "metadata": {},
   "outputs": [],
   "source": [
    "final_prompt = ChatPromptTemplate.from_messages(\n",
    "     [\n",
    "         (\"system\", \"You are a MySQL expert. Given an input question, create a syntactically correct MySQL query to run. Unless otherwise specificed.\\n\\nHere is the relevant table info: {table_info}\\n\\nBelow are a number of examples of questions and their corresponding SQL queries. Those examples are just for reference and may be considered while answering follow up questions\"),\n",
    "         few_shot_prompt,\n",
    "         MessagesPlaceholder(variable_name=\"messages\"),             #adding the past conversation if happened.\n",
    "         (\"human\", \"{input}\"),\n",
    "     ]\n",
    " )"
   ]
  },
  {
   "cell_type": "code",
   "execution_count": 64,
   "metadata": {},
   "outputs": [
    {
     "name": "stdout",
     "output_type": "stream",
     "text": [
      "System: You are a MySQL expert. Given an input question, create a syntactically correct MySQL query to run. Unless otherwise specificed.\n",
      "\n",
      "Here is the relevant table info: \n",
      "CREATE TABLE attendance (\n",
      "\tstudent_id VARCHAR(15) NOT NULL, \n",
      "\tsubject_id VARCHAR(15) NOT NULL, \n",
      "\tdate DATE NOT NULL, \n",
      "\tstatus ENUM('absent','present') DEFAULT 'absent', \n",
      "\tPRIMARY KEY (student_id, subject_id, date), \n",
      "\tCONSTRAINT attendance_ibfk_1 FOREIGN KEY(student_id) REFERENCES students (student_id), \n",
      "\tCONSTRAINT attendance_ibfk_2 FOREIGN KEY(subject_id) REFERENCES subjects (subject_id)\n",
      ")DEFAULT CHARSET=utf8mb4 COLLATE utf8mb4_0900_ai_ci ENGINE=InnoDB\n",
      "\n",
      "/*\n",
      "4 rows from attendance table:\n",
      "student_id\tsubject_id\tdate\tstatus\n",
      "1DS21CS001\t21CS71\t2024-11-16\tabsent\n",
      "1DS21CS001\t21CS72\t2024-11-16\tpresent\n",
      "1DS21CS001\t21CS73\t2024-11-16\tabsent\n",
      "1DS21CS001\t21CS74\t2024-11-16\tpresent\n",
      "*/\n",
      "\n",
      "\n",
      "CREATE TABLE login (\n",
      "\tid VARCHAR(20) NOT NULL, \n",
      "\tname VARCHAR(100) NOT NULL, \n",
      "\temail VARCHAR(100) NOT NULL, \n",
      "\tpassword VARCHAR(255) NOT NULL, \n",
      "\ttype VARCHAR(50) NOT NULL\n",
      ")DEFAULT CHARSET=utf8mb4 COLLATE utf8mb4_0900_ai_ci ENGINE=InnoDB\n",
      "\n",
      "/*\n",
      "4 rows from login table:\n",
      "id\tname\temail\tpassword\ttype\n",
      "1DSTC001\tHARSH KAMAL\t1DSTC001@dsce.edu.in\tpassword\tAdministrator\n",
      "1DSTC002\tKUMAR MAYANK RAJ\t1DSTC002@dsce.edu.in\tpassword\tadministrator\n",
      "1DSTC003\tPREMSUKH\t1DSTC003@dsce.edu.in\tpassword\tadministrator\n",
      "1DSTC004\tTANMAYI G\t1DSTC004@dsce.edu.in\tpassword\tadministrator\n",
      "*/\n",
      "\n",
      "\n",
      "CREATE TABLE students (\n",
      "\tstudent_id VARCHAR(10) NOT NULL, \n",
      "\tstudent_name VARCHAR(100), \n",
      "\tcontact VARCHAR(10), \n",
      "\temail VARCHAR(50) NOT NULL, \n",
      "\tstudent_father_name VARCHAR(50) NOT NULL, \n",
      "\tstudent_mother_name VARCHAR(50) NOT NULL, \n",
      "\tPRIMARY KEY (student_id), \n",
      "\tCONSTRAINT students_chk_1 CHECK (((length(`contact`) = 10) and (not((`contact` like _utf8mb4'%[^0-9]%'))))), \n",
      "\tCONSTRAINT students_chk_2 CHECK ((`email` like _utf8mb4'%_@__%.__%'))\n",
      ")DEFAULT CHARSET=utf8mb4 COLLATE utf8mb4_0900_ai_ci ENGINE=InnoDB\n",
      "\n",
      "/*\n",
      "4 rows from students table:\n",
      "student_id\tstudent_name\tcontact\temail\tstudent_father_name\tstudent_mother_name\n",
      "1DS21CS001\tA N ANVITHA\t9080706001\t1ds21cs001@dsce.edu.in\t1ds21cs001_Father_name\t1ds21cs001_Mother_name\n",
      "1DS21CS002\tAADITYA KRISHNA\t9080706002\t1ds21cs002@dsce.edu.in\t1ds21cs002_Father_name\t1ds21cs002_Mother_name\n",
      "1DS21CS003\tAARUSHI DHRUV\t9080706003\t1ds21cs003@dsce.edu.in\t1ds21cs003_Father_name\t1ds21cs003_Mother_name\n",
      "1DS21CS004\tAARYA GOWDA\t9080706004\t1ds21cs004@dsce.edu.in\t1ds21cs004_Father_name\t1ds21cs004_Mother_name\n",
      "*/\n",
      "\n",
      "\n",
      "CREATE TABLE subjects (\n",
      "\tsubject_id VARCHAR(15) NOT NULL, \n",
      "\tsubject_name VARCHAR(70) NOT NULL, \n",
      "\tsubject_credits INTEGER NOT NULL, \n",
      "\tPRIMARY KEY (subject_id)\n",
      ")DEFAULT CHARSET=utf8mb4 COLLATE utf8mb4_0900_ai_ci ENGINE=InnoDB\n",
      "\n",
      "/*\n",
      "4 rows from subjects table:\n",
      "subject_id\tsubject_name\tsubject_credits\n",
      "21CS71\tManagement Entrepreneurship\t3\n",
      "21CS72\tData Science and Visualization\t3\n",
      "21CS73\tNatural Language Processing\t3\n",
      "21CS74\tAR VR\t3\n",
      "*/\n",
      "\n",
      "\n",
      "CREATE TABLE teacher_subject (\n",
      "\tteacher_id VARCHAR(20) NOT NULL, \n",
      "\tsubject_id VARCHAR(15) NOT NULL, \n",
      "\tPRIMARY KEY (teacher_id, subject_id), \n",
      "\tCONSTRAINT teacher_subject_ibfk_1 FOREIGN KEY(teacher_id) REFERENCES teachers (teacher_id), \n",
      "\tCONSTRAINT teacher_subject_ibfk_2 FOREIGN KEY(subject_id) REFERENCES subjects (subject_id)\n",
      ")DEFAULT CHARSET=utf8mb4 COLLATE utf8mb4_0900_ai_ci ENGINE=InnoDB\n",
      "\n",
      "/*\n",
      "4 rows from teacher_subject table:\n",
      "teacher_id\tsubject_id\n",
      "1DSTC001\t21CS71\n",
      "1DSTC001\t21CS72\n",
      "1DSTC002\t21CS73\n",
      "1DSTC002\t21CS74\n",
      "*/\n",
      "\n",
      "\n",
      "CREATE TABLE teachers (\n",
      "\tteacher_id VARCHAR(20) NOT NULL, \n",
      "\tteacher_name VARCHAR(50) NOT NULL, \n",
      "\tcontact VARCHAR(10), \n",
      "\temail VARCHAR(50) NOT NULL, \n",
      "\tPRIMARY KEY (teacher_id), \n",
      "\tCONSTRAINT teachers_chk_1 CHECK (((length(`contact`) = 10) and (not((`contact` like _utf8mb4'%[^0-9]%'))))), \n",
      "\tCONSTRAINT teachers_chk_2 CHECK ((`email` like _utf8mb4'%_@__%.__%'))\n",
      ")DEFAULT CHARSET=utf8mb4 COLLATE utf8mb4_0900_ai_ci ENGINE=InnoDB\n",
      "\n",
      "/*\n",
      "4 rows from teachers table:\n",
      "teacher_id\tteacher_name\tcontact\temail\n",
      "1DSTC001\tHARSH KAMAL\t1020304001\t1DSTC001@dsce.edu.in\n",
      "1DSTC002\tKUMAR MAYANK RAJ\t1020304002\t1DSTC002@dsce.edu.in\n",
      "1DSTC003\tPREMSUKH\t1020304003\t1DSTC003@dsce.edu.in\n",
      "1DSTC004\tTANMAYI G\t1020304004\t1DSTC004@dsce.edu.in\n",
      "*/\n",
      "\n",
      "Below are a number of examples of questions and their corresponding SQL queries. Those examples are just for reference and may be considered while answering follow up questions\n",
      "Human: Who is 087?.  Only return the SQL query, Nothing else.\n",
      "AI: SELECT * FROM students WHERE student_id = '1DS21CS087'\n",
      "Human: what Harsh teaches?.  Only return the SQL query, Nothing else.\n",
      "AI: select su.subject_name from teachers t inner join teacher_subject ts on t.teacher_id = ts.teacher_id inner join subjects su on su.subject_code = ts.subject_code where t.teacher_id in (select teacher_id from teachers where teacher_name like '%harsh%'); \n",
      "Human: Who is 098?\n"
     ]
    }
   ],
   "source": [
    "print(final_prompt.format(input=final_prompt_input,table_info=db.table_info,messages=[]))"
   ]
  },
  {
   "cell_type": "markdown",
   "metadata": {},
   "source": [
    "<p>As we updated the final prompt , so we have to update the query generator as well as the chain again</p>"
   ]
  },
  {
   "cell_type": "code",
   "execution_count": 65,
   "metadata": {},
   "outputs": [],
   "source": [
    "generate_query = create_sql_query_chain(llm, db,final_prompt)"
   ]
  },
  {
   "cell_type": "code",
   "execution_count": 66,
   "metadata": {},
   "outputs": [],
   "source": [
    "chain = (\n",
    " RunnablePassthrough.assign(query=generate_query).assign(\n",
    "     result=itemgetter(\"query\") | execute_query\n",
    " )\n",
    " | rephrase_answer\n",
    " )"
   ]
  },
  {
   "cell_type": "code",
   "execution_count": 67,
   "metadata": {},
   "outputs": [],
   "source": [
    "history.clear()                 #To clear the past conversation"
   ]
  },
  {
   "cell_type": "code",
   "execution_count": 68,
   "metadata": {},
   "outputs": [
    {
     "name": "stdout",
     "output_type": "stream",
     "text": [
      "[]\n"
     ]
    }
   ],
   "source": [
    "print(history.messages)"
   ]
  },
  {
   "cell_type": "code",
   "execution_count": 70,
   "metadata": {},
   "outputs": [],
   "source": [
    "question = \"How many students are there with name starting with p?\""
   ]
  },
  {
   "cell_type": "code",
   "execution_count": 71,
   "metadata": {},
   "outputs": [
    {
     "name": "stdout",
     "output_type": "stream",
     "text": [
      "There are 27 students with names starting with the letter 'p'.\n"
     ]
    }
   ],
   "source": [
    "response = chain.invoke({\"question\": question,\"messages\":history.messages})\n",
    "print(response)"
   ]
  },
  {
   "cell_type": "markdown",
   "metadata": {},
   "source": [
    "<p>Adding this conversation</p>"
   ]
  },
  {
   "cell_type": "code",
   "execution_count": 72,
   "metadata": {},
   "outputs": [],
   "source": [
    "history.add_user_message(question)\n",
    "history.add_ai_message(response)"
   ]
  },
  {
   "cell_type": "code",
   "execution_count": 74,
   "metadata": {},
   "outputs": [
    {
     "data": {
      "text/plain": [
       "[HumanMessage(content='How many students are there with name starting with p?', additional_kwargs={}, response_metadata={}),\n",
       " AIMessage(content=\"There are 27 students with names starting with the letter 'p'.\", additional_kwargs={}, response_metadata={})]"
      ]
     },
     "execution_count": 74,
     "metadata": {},
     "output_type": "execute_result"
    }
   ],
   "source": [
    "history.messages"
   ]
  },
  {
   "cell_type": "code",
   "execution_count": 75,
   "metadata": {},
   "outputs": [
    {
     "name": "stdout",
     "output_type": "stream",
     "text": [
      "Sure, the first five names starting with 'P' are PILLA SHANMUKHA DHANUSH, POOJA MARIA, POORNESH KAMATH S, POTANA SAI ROHITH, and PRAGYA SHARMA.\n"
     ]
    }
   ],
   "source": [
    "response = chain.invoke({\"question\": \"Can you give me name of first 5?\",\"messages\":history.messages})\n",
    "print(response)"
   ]
  },
  {
   "cell_type": "code",
   "execution_count": null,
   "metadata": {},
   "outputs": [],
   "source": []
  }
 ],
 "metadata": {
  "kernelspec": {
   "display_name": "sqlenv",
   "language": "python",
   "name": "python3"
  },
  "language_info": {
   "codemirror_mode": {
    "name": "ipython",
    "version": 3
   },
   "file_extension": ".py",
   "mimetype": "text/x-python",
   "name": "python",
   "nbconvert_exporter": "python",
   "pygments_lexer": "ipython3",
   "version": "3.12.3"
  }
 },
 "nbformat": 4,
 "nbformat_minor": 2
}
